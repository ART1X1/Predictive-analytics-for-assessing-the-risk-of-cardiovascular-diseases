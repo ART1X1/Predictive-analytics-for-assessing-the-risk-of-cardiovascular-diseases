{
 "cells": [
  {
   "cell_type": "code",
   "execution_count": 5,
   "id": "cc160bb0-1690-44f1-b87d-1afcfa6f8168",
   "metadata": {},
   "outputs": [
    {
     "name": "stdout",
     "output_type": "stream",
     "text": [
      "ROC AUC: 0.503170559094126\n",
      "Accuracy: 0.5008556759840274\n",
      "F1 Score: 0.4277305428384565\n",
      "Precision: 0.36293007769145397\n",
      "Recall: 0.5207006369426752\n"
     ]
    }
   ],
   "source": [
    "import pandas as pd\n",
    "import numpy as np\n",
    "from sklearn.model_selection import train_test_split\n",
    "from sklearn.preprocessing import StandardScaler\n",
    "from sklearn.metrics import roc_auc_score, accuracy_score, f1_score, precision_score, recall_score\n",
    "from sklearn.svm import SVC\n",
    "from sklearn.pipeline import Pipeline\n",
    "\n",
    "df = pd.read_csv(\"heart_attack_prediction_dataset.csv\")\n",
    "bp_split = df['Blood Pressure'].str.split('/', expand=True)\n",
    "df['Systolic BP'] = pd.to_numeric(bp_split[0], errors='coerce')\n",
    "df['Diastolic BP'] = pd.to_numeric(bp_split[1], errors='coerce')\n",
    "df.drop(columns=['Blood Pressure', 'Patient ID'], inplace=True)\n",
    "\n",
    "categorical_cols = ['Sex', 'Country', 'Continent', 'Hemisphere', 'Diet']\n",
    "df = pd.get_dummies(df, columns=categorical_cols, drop_first=True)\n",
    "df.dropna(inplace=True)\n",
    "\n",
    "top_features = [\n",
    "    'Age',\n",
    "    'Diet_Healthy',\n",
    "    'Country_France',\n",
    "    'Country_South Africa',\n",
    "    'Country_United Kingdom',\n",
    "    'Exercise Hours Per Week',\n",
    "    'Country_India',\n",
    "    'BMI',\n",
    "    'Continent_Australia',\n",
    "    'Alcohol Consumption'\n",
    "]\n",
    "\n",
    "X = df[top_features]\n",
    "y = df['Heart Attack Risk']\n",
    "\n",
    "X_train, X_test, y_train, y_test = train_test_split(X, y, test_size=0.2, random_state=42)\n",
    "\n",
    "svm_rbf_balanced_pipeline = Pipeline([\n",
    "    ('scaler', StandardScaler()),\n",
    "    ('svm', SVC(kernel='rbf', probability=True, class_weight='balanced', random_state=42))\n",
    "])\n",
    "\n",
    "svm_rbf_balanced_pipeline.fit(X_train, y_train)\n",
    "\n",
    "y_pred = svm_rbf_balanced_pipeline.predict(X_test)\n",
    "y_pred_proba = svm_rbf_balanced_pipeline.predict_proba(X_test)[:, 1]\n",
    "\n",
    "print(\"ROC AUC:\", roc_auc_score(y_test, y_pred_proba))\n",
    "print(\"Accuracy:\", accuracy_score(y_test, y_pred))\n",
    "print(\"F1 Score:\", f1_score(y_test, y_pred))\n",
    "print(\"Precision:\", precision_score(y_test, y_pred))\n",
    "print(\"Recall:\", recall_score(y_test, y_pred))\n"
   ]
  },
  {
   "cell_type": "code",
   "execution_count": null,
   "id": "34f900e4-77b9-4589-a2d9-ad932754b70a",
   "metadata": {},
   "outputs": [],
   "source": []
  }
 ],
 "metadata": {
  "kernelspec": {
   "display_name": "Python 3 (ipykernel)",
   "language": "python",
   "name": "python3"
  },
  "language_info": {
   "codemirror_mode": {
    "name": "ipython",
    "version": 3
   },
   "file_extension": ".py",
   "mimetype": "text/x-python",
   "name": "python",
   "nbconvert_exporter": "python",
   "pygments_lexer": "ipython3",
   "version": "3.9.12"
  }
 },
 "nbformat": 4,
 "nbformat_minor": 5
}
