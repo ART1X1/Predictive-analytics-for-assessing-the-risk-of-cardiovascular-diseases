{
 "cells": [
  {
   "cell_type": "code",
   "execution_count": 1,
   "id": "2c3a0d87-b584-48d8-9359-a1b1bcb1cfa0",
   "metadata": {},
   "outputs": [
    {
     "name": "stdout",
     "output_type": "stream",
     "text": [
      "Requirement already satisfied: imbalanced-learn in /Library/Frameworks/Python.framework/Versions/3.9/lib/python3.9/site-packages (0.12.4)\n",
      "Requirement already satisfied: numpy>=1.17.3 in /Library/Frameworks/Python.framework/Versions/3.9/lib/python3.9/site-packages (from imbalanced-learn) (1.26.4)\n",
      "Requirement already satisfied: scipy>=1.5.0 in /Library/Frameworks/Python.framework/Versions/3.9/lib/python3.9/site-packages (from imbalanced-learn) (1.13.1)\n",
      "Requirement already satisfied: scikit-learn>=1.0.2 in /Library/Frameworks/Python.framework/Versions/3.9/lib/python3.9/site-packages (from imbalanced-learn) (1.4.1.post1)\n",
      "Requirement already satisfied: joblib>=1.1.1 in /Library/Frameworks/Python.framework/Versions/3.9/lib/python3.9/site-packages (from imbalanced-learn) (1.3.2)\n",
      "Requirement already satisfied: threadpoolctl>=2.0.0 in /Library/Frameworks/Python.framework/Versions/3.9/lib/python3.9/site-packages (from imbalanced-learn) (3.3.0)\n"
     ]
    }
   ],
   "source": [
    "!pip install imbalanced-learn"
   ]
  },
  {
   "cell_type": "code",
   "execution_count": 2,
   "id": "272bd27f-7df1-463e-9eac-1ac961327d42",
   "metadata": {},
   "outputs": [
    {
     "name": "stdout",
     "output_type": "stream",
     "text": [
      "Collecting xgboost\n",
      "  Downloading xgboost-2.1.3-py3-none-macosx_12_0_arm64.whl.metadata (2.1 kB)\n",
      "Requirement already satisfied: numpy in /Library/Frameworks/Python.framework/Versions/3.9/lib/python3.9/site-packages (from xgboost) (1.26.4)\n",
      "Requirement already satisfied: scipy in /Library/Frameworks/Python.framework/Versions/3.9/lib/python3.9/site-packages (from xgboost) (1.13.1)\n",
      "Downloading xgboost-2.1.3-py3-none-macosx_12_0_arm64.whl (1.9 MB)\n",
      "\u001b[2K   \u001b[90m━━━━━━━━━━━━━━━━━━━━━━━━━━━━━━━━━━━━━━━━\u001b[0m \u001b[32m1.9/1.9 MB\u001b[0m \u001b[31m8.1 MB/s\u001b[0m eta \u001b[36m0:00:00\u001b[0ma \u001b[36m0:00:01\u001b[0m\n",
      "Installing collected packages: xgboost\n",
      "Successfully installed xgboost-2.1.3\n"
     ]
    }
   ],
   "source": [
    "!pip install xgboost"
   ]
  },
  {
   "cell_type": "code",
   "execution_count": 2,
   "id": "ed1dbcd0-30bb-45e1-af47-271536890bd1",
   "metadata": {
    "scrolled": true
   },
   "outputs": [
    {
     "name": "stdout",
     "output_type": "stream",
     "text": [
      "Collecting catboost\n",
      "  Downloading catboost-1.2.7-cp39-cp39-macosx_11_0_universal2.whl.metadata (1.2 kB)\n",
      "Collecting graphviz (from catboost)\n",
      "  Downloading graphviz-0.20.3-py3-none-any.whl.metadata (12 kB)\n",
      "Requirement already satisfied: matplotlib in /Library/Frameworks/Python.framework/Versions/3.9/lib/python3.9/site-packages (from catboost) (3.8.3)\n",
      "Requirement already satisfied: numpy<2.0,>=1.16.0 in /Library/Frameworks/Python.framework/Versions/3.9/lib/python3.9/site-packages (from catboost) (1.26.4)\n",
      "Requirement already satisfied: pandas>=0.24 in /Library/Frameworks/Python.framework/Versions/3.9/lib/python3.9/site-packages (from catboost) (2.2.3)\n",
      "Requirement already satisfied: scipy in /Library/Frameworks/Python.framework/Versions/3.9/lib/python3.9/site-packages (from catboost) (1.13.1)\n",
      "Collecting plotly (from catboost)\n",
      "  Downloading plotly-6.0.0-py3-none-any.whl.metadata (5.6 kB)\n",
      "Requirement already satisfied: six in /Library/Frameworks/Python.framework/Versions/3.9/lib/python3.9/site-packages (from catboost) (1.16.0)\n",
      "Requirement already satisfied: python-dateutil>=2.8.2 in /Library/Frameworks/Python.framework/Versions/3.9/lib/python3.9/site-packages (from pandas>=0.24->catboost) (2.8.2)\n",
      "Requirement already satisfied: pytz>=2020.1 in /Library/Frameworks/Python.framework/Versions/3.9/lib/python3.9/site-packages (from pandas>=0.24->catboost) (2022.6)\n",
      "Requirement already satisfied: tzdata>=2022.7 in /Library/Frameworks/Python.framework/Versions/3.9/lib/python3.9/site-packages (from pandas>=0.24->catboost) (2024.2)\n",
      "Requirement already satisfied: contourpy>=1.0.1 in /Library/Frameworks/Python.framework/Versions/3.9/lib/python3.9/site-packages (from matplotlib->catboost) (1.0.6)\n",
      "Requirement already satisfied: cycler>=0.10 in /Library/Frameworks/Python.framework/Versions/3.9/lib/python3.9/site-packages (from matplotlib->catboost) (0.11.0)\n",
      "Requirement already satisfied: fonttools>=4.22.0 in /Library/Frameworks/Python.framework/Versions/3.9/lib/python3.9/site-packages (from matplotlib->catboost) (4.38.0)\n",
      "Requirement already satisfied: kiwisolver>=1.3.1 in /Library/Frameworks/Python.framework/Versions/3.9/lib/python3.9/site-packages (from matplotlib->catboost) (1.4.4)\n",
      "Requirement already satisfied: packaging>=20.0 in /Library/Frameworks/Python.framework/Versions/3.9/lib/python3.9/site-packages (from matplotlib->catboost) (24.2)\n",
      "Requirement already satisfied: pillow>=8 in /Library/Frameworks/Python.framework/Versions/3.9/lib/python3.9/site-packages (from matplotlib->catboost) (9.3.0)\n",
      "Requirement already satisfied: pyparsing>=2.3.1 in /Library/Frameworks/Python.framework/Versions/3.9/lib/python3.9/site-packages (from matplotlib->catboost) (3.0.9)\n",
      "Requirement already satisfied: importlib-resources>=3.2.0 in /Library/Frameworks/Python.framework/Versions/3.9/lib/python3.9/site-packages (from matplotlib->catboost) (6.3.0)\n",
      "Collecting narwhals>=1.15.1 (from plotly->catboost)\n",
      "  Downloading narwhals-1.29.1-py3-none-any.whl.metadata (10 kB)\n",
      "Requirement already satisfied: zipp>=3.1.0 in /Library/Frameworks/Python.framework/Versions/3.9/lib/python3.9/site-packages (from importlib-resources>=3.2.0->matplotlib->catboost) (3.8.1)\n",
      "Downloading catboost-1.2.7-cp39-cp39-macosx_11_0_universal2.whl (27.1 MB)\n",
      "\u001b[2K   \u001b[90m━━━━━━━━━━━━━━━━━━━━━━━━━━━━━━━━━━━━━━━━\u001b[0m \u001b[32m27.1/27.1 MB\u001b[0m \u001b[31m3.2 MB/s\u001b[0m eta \u001b[36m0:00:00\u001b[0m00:01\u001b[0m00:01\u001b[0m\n",
      "Downloading graphviz-0.20.3-py3-none-any.whl (47 kB)\n",
      "Downloading plotly-6.0.0-py3-none-any.whl (14.8 MB)\n",
      "\u001b[2K   \u001b[90m━━━━━━━━━━━━━━━━━━━━━━━━━━━━━━━━━━━━━━━━\u001b[0m \u001b[32m14.8/14.8 MB\u001b[0m \u001b[31m3.1 MB/s\u001b[0m eta \u001b[36m0:00:00\u001b[0ma \u001b[36m0:00:01\u001b[0m\n",
      "Downloading narwhals-1.29.1-py3-none-any.whl (308 kB)\n",
      "Installing collected packages: narwhals, graphviz, plotly, catboost\n",
      "Successfully installed catboost-1.2.7 graphviz-0.20.3 narwhals-1.29.1 plotly-6.0.0\n",
      "\n",
      "\u001b[1m[\u001b[0m\u001b[34;49mnotice\u001b[0m\u001b[1;39;49m]\u001b[0m\u001b[39;49m A new release of pip is available: \u001b[0m\u001b[31;49m24.3.1\u001b[0m\u001b[39;49m -> \u001b[0m\u001b[32;49m25.0.1\u001b[0m\n",
      "\u001b[1m[\u001b[0m\u001b[34;49mnotice\u001b[0m\u001b[1;39;49m]\u001b[0m\u001b[39;49m To update, run: \u001b[0m\u001b[32;49mpip install --upgrade pip\u001b[0m\n"
     ]
    }
   ],
   "source": [
    "!pip install catboost"
   ]
  },
  {
   "cell_type": "code",
   "execution_count": 9,
   "id": "bc3716cd-d846-4f45-8e1a-b43b14859778",
   "metadata": {
    "scrolled": true
   },
   "outputs": [
    {
     "name": "stdout",
     "output_type": "stream",
     "text": [
      "Collecting optuna\n",
      "  Downloading optuna-4.2.1-py3-none-any.whl.metadata (17 kB)\n",
      "Collecting alembic>=1.5.0 (from optuna)\n",
      "  Downloading alembic-1.15.1-py3-none-any.whl.metadata (7.2 kB)\n",
      "Collecting colorlog (from optuna)\n",
      "  Downloading colorlog-6.9.0-py3-none-any.whl.metadata (10 kB)\n",
      "Requirement already satisfied: numpy in /Library/Frameworks/Python.framework/Versions/3.9/lib/python3.9/site-packages (from optuna) (1.26.4)\n",
      "Requirement already satisfied: packaging>=20.0 in /Library/Frameworks/Python.framework/Versions/3.9/lib/python3.9/site-packages (from optuna) (24.2)\n",
      "Collecting sqlalchemy>=1.4.2 (from optuna)\n",
      "  Downloading SQLAlchemy-2.0.38-cp39-cp39-macosx_11_0_arm64.whl.metadata (9.6 kB)\n",
      "Collecting tqdm (from optuna)\n",
      "  Downloading tqdm-4.67.1-py3-none-any.whl.metadata (57 kB)\n",
      "Requirement already satisfied: PyYAML in /Library/Frameworks/Python.framework/Versions/3.9/lib/python3.9/site-packages (from optuna) (6.0.2)\n",
      "Collecting Mako (from alembic>=1.5.0->optuna)\n",
      "  Downloading Mako-1.3.9-py3-none-any.whl.metadata (2.9 kB)\n",
      "Collecting typing-extensions>=4.12 (from alembic>=1.5.0->optuna)\n",
      "  Downloading typing_extensions-4.12.2-py3-none-any.whl.metadata (3.0 kB)\n",
      "Requirement already satisfied: MarkupSafe>=0.9.2 in /Library/Frameworks/Python.framework/Versions/3.9/lib/python3.9/site-packages (from Mako->alembic>=1.5.0->optuna) (2.1.1)\n",
      "Downloading optuna-4.2.1-py3-none-any.whl (383 kB)\n",
      "Downloading alembic-1.15.1-py3-none-any.whl (231 kB)\n",
      "Downloading SQLAlchemy-2.0.38-cp39-cp39-macosx_11_0_arm64.whl (2.1 MB)\n",
      "\u001b[2K   \u001b[90m━━━━━━━━━━━━━━━━━━━━━━━━━━━━━━━━━━━━━━━━\u001b[0m \u001b[32m2.1/2.1 MB\u001b[0m \u001b[31m2.8 MB/s\u001b[0m eta \u001b[36m0:00:00\u001b[0ma \u001b[36m0:00:01\u001b[0m\n",
      "Downloading colorlog-6.9.0-py3-none-any.whl (11 kB)\n",
      "Downloading tqdm-4.67.1-py3-none-any.whl (78 kB)\n",
      "Downloading typing_extensions-4.12.2-py3-none-any.whl (37 kB)\n",
      "Downloading Mako-1.3.9-py3-none-any.whl (78 kB)\n",
      "Installing collected packages: typing-extensions, tqdm, Mako, colorlog, sqlalchemy, alembic, optuna\n",
      "  Attempting uninstall: typing-extensions\n",
      "    Found existing installation: typing_extensions 4.9.0\n",
      "    Uninstalling typing_extensions-4.9.0:\n",
      "      Successfully uninstalled typing_extensions-4.9.0\n",
      "Successfully installed Mako-1.3.9 alembic-1.15.1 colorlog-6.9.0 optuna-4.2.1 sqlalchemy-2.0.38 tqdm-4.67.1 typing-extensions-4.12.2\n",
      "\n",
      "\u001b[1m[\u001b[0m\u001b[34;49mnotice\u001b[0m\u001b[1;39;49m]\u001b[0m\u001b[39;49m A new release of pip is available: \u001b[0m\u001b[31;49m24.3.1\u001b[0m\u001b[39;49m -> \u001b[0m\u001b[32;49m25.0.1\u001b[0m\n",
      "\u001b[1m[\u001b[0m\u001b[34;49mnotice\u001b[0m\u001b[1;39;49m]\u001b[0m\u001b[39;49m To update, run: \u001b[0m\u001b[32;49mpip install --upgrade pip\u001b[0m\n"
     ]
    }
   ],
   "source": [
    "!pip install optuna"
   ]
  },
  {
   "cell_type": "code",
   "execution_count": 13,
   "id": "b089510a-cab8-4398-8235-ffd80e3efdf7",
   "metadata": {},
   "outputs": [],
   "source": [
    "from imblearn.over_sampling import SMOTE\n",
    "from sklearn.model_selection import GridSearchCV\n",
    "from xgboost import XGBClassifier\n",
    "from sklearn.metrics import classification_report, roc_auc_score\n",
    "from sklearn.pipeline import Pipeline\n",
    "from sklearn.compose import ColumnTransformer\n",
    "from sklearn.preprocessing import StandardScaler, OneHotEncoder\n",
    "from sklearn.impute import SimpleImputer\n",
    "import pandas as pd\n",
    "import pandas as pd\n",
    "from sklearn.model_selection import train_test_split\n",
    "from sklearn.linear_model import LogisticRegression, Ridge\n",
    "from sklearn.preprocessing import StandardScaler, PolynomialFeatures, PolynomialFeatures, StandardScaler, OneHotEncoder\n",
    "from sklearn.metrics import roc_auc_score, f1_score, accuracy_score, classification_report\n",
    "from sklearn.metrics import accuracy_score, precision_score, recall_score\n",
    "from sklearn.decomposition import PCA\n",
    "from sklearn.ensemble import GradientBoostingClassifier\n",
    "import matplotlib.pyplot as plt\n",
    "import seaborn as sns"
   ]
  },
  {
   "cell_type": "code",
   "execution_count": 2,
   "id": "eca97012-0b51-4d56-a7c4-03687286d3ea",
   "metadata": {},
   "outputs": [],
   "source": [
    "train = pd.read_parquet('train.parquet')\n",
    "val = pd.read_parquet('val.parquet')\n",
    "test = pd.read_parquet('test.parquet')"
   ]
  },
  {
   "cell_type": "code",
   "execution_count": 3,
   "id": "12520428-25d8-409c-9c90-df8e3914c7bc",
   "metadata": {},
   "outputs": [],
   "source": [
    "target = 'Heart Attack Risk'"
   ]
  },
  {
   "cell_type": "code",
   "execution_count": 4,
   "id": "b83c0bbe-f376-49ed-94b7-0a14b214de62",
   "metadata": {},
   "outputs": [],
   "source": [
    "train = train.drop(columns=['Hemisphere', 'Continent'])\n",
    "val = val.drop(columns=['Hemisphere', 'Continent'])\n",
    "test = test.drop(columns=['Hemisphere', 'Continent'])"
   ]
  },
  {
   "cell_type": "markdown",
   "id": "401d9ad5-7346-466e-93bd-6595ae313795",
   "metadata": {},
   "source": [
    "# CatBoost"
   ]
  },
  {
   "cell_type": "code",
   "execution_count": 2,
   "id": "57786ad1-ebd2-4e7e-8bd3-c18ba385ed71",
   "metadata": {},
   "outputs": [],
   "source": [
    "import catboost\n",
    "from catboost import CatBoostClassifier\n",
    "import optuna \n",
    "from sklearn.metrics import f1_score, roc_auc_score, precision_score, recall_score, classification_report\n",
    "from sklearn.inspection import permutation_importance\n",
    "import matplotlib.pyplot as plt\n",
    "import seaborn as sns"
   ]
  },
  {
   "cell_type": "code",
   "execution_count": null,
   "id": "96815e89-6fef-4bea-b840-a0882fe68efe",
   "metadata": {},
   "outputs": [],
   "source": []
  },
  {
   "cell_type": "code",
   "execution_count": null,
   "id": "b3c4a345-e03e-408c-8e8e-d36058568734",
   "metadata": {},
   "outputs": [],
   "source": []
  },
  {
   "cell_type": "code",
   "execution_count": 78,
   "id": "cdb45dbe-c9c6-4bb8-bebe-dd074fef07be",
   "metadata": {},
   "outputs": [],
   "source": [
    "text_columns = train.select_dtypes(include='object').columns.tolist()"
   ]
  },
  {
   "cell_type": "code",
   "execution_count": 89,
   "id": "719aa127-b952-480d-a62b-e3d7ea91a7a0",
   "metadata": {
    "scrolled": true
   },
   "outputs": [
    {
     "name": "stdout",
     "output_type": "stream",
     "text": [
      "0:\tlearn: 0.6849040\ttest: 0.6852377\tbest: 0.6852377 (0)\ttotal: 5.67ms\tremaining: 5.67s\n",
      "100:\tlearn: 0.6363599\ttest: 0.6556740\tbest: 0.6526978 (21)\ttotal: 241ms\tremaining: 2.14s\n",
      "200:\tlearn: 0.6147163\ttest: 0.6584613\tbest: 0.6526978 (21)\ttotal: 476ms\tremaining: 1.89s\n",
      "300:\tlearn: 0.5969817\ttest: 0.6605025\tbest: 0.6526978 (21)\ttotal: 711ms\tremaining: 1.65s\n",
      "400:\tlearn: 0.5793773\ttest: 0.6611340\tbest: 0.6526978 (21)\ttotal: 947ms\tremaining: 1.41s\n",
      "500:\tlearn: 0.5641370\ttest: 0.6626822\tbest: 0.6526978 (21)\ttotal: 1.18s\tremaining: 1.18s\n",
      "600:\tlearn: 0.5506414\ttest: 0.6661355\tbest: 0.6526978 (21)\ttotal: 1.42s\tremaining: 945ms\n",
      "700:\tlearn: 0.5367256\ttest: 0.6686701\tbest: 0.6526978 (21)\ttotal: 1.66s\tremaining: 707ms\n",
      "800:\tlearn: 0.5243894\ttest: 0.6711518\tbest: 0.6526978 (21)\ttotal: 1.9s\tremaining: 471ms\n",
      "900:\tlearn: 0.5132946\ttest: 0.6740741\tbest: 0.6526978 (21)\ttotal: 2.13s\tremaining: 235ms\n",
      "999:\tlearn: 0.5034783\ttest: 0.6770015\tbest: 0.6526978 (21)\ttotal: 2.38s\tremaining: 0us\n",
      "\n",
      "bestTest = 0.6526977668\n",
      "bestIteration = 21\n",
      "\n",
      "Shrink model to first 22 iterations.\n"
     ]
    },
    {
     "data": {
      "text/plain": [
       "<catboost.core.CatBoostClassifier at 0x16a8f13d0>"
      ]
     },
     "execution_count": 89,
     "metadata": {},
     "output_type": "execute_result"
    }
   ],
   "source": [
    "model = CatBoostClassifier(iterations=1000, learning_rate=0.1, depth=3, cat_features=text_columns, random_seed=42)\n",
    "model.fit(train.drop(columns=target), train[target], eval_set = (val.drop(columns=target), val[target]), verbose=100)"
   ]
  },
  {
   "cell_type": "code",
   "execution_count": 90,
   "id": "4b5cd931-9641-4c00-b22c-123f3a0afcf3",
   "metadata": {},
   "outputs": [
    {
     "name": "stdout",
     "output_type": "stream",
     "text": [
      "TRAIN : 0.5629400705970274\n",
      "VAL : 0.5020382165605095\n",
      "TEST : 0.4925987261146497\n"
     ]
    }
   ],
   "source": [
    "print(f\"TRAIN : {roc_auc_score(train[target], model.predict_proba(train.drop(columns=target))[:, 1])}\")\n",
    "print(f\"VAL : {roc_auc_score(val[target], model.predict_proba(val.drop(columns=target))[:, 1])}\")\n",
    "print(f\"TEST : {roc_auc_score(test[target], model.predict_proba(test.drop(columns=target))[:, 1])}\")"
   ]
  },
  {
   "cell_type": "code",
   "execution_count": 91,
   "id": "6033fe2d-82a6-40d9-aa4c-991347ca76f8",
   "metadata": {},
   "outputs": [
    {
     "name": "stdout",
     "output_type": "stream",
     "text": [
      "TRAIN : 0.0\n",
      "VAL : 0.0\n",
      "TEST : 0.0\n"
     ]
    }
   ],
   "source": [
    "print(f\"TRAIN : {f1_score(train[target], model.predict(train.drop(columns=target)))}\")\n",
    "print(f\"VAL : {f1_score(val[target], model.predict(val.drop(columns=target)))}\")\n",
    "print(f\"TEST : {f1_score(test[target], model.predict(test.drop(columns=target)))}\")"
   ]
  },
  {
   "cell_type": "code",
   "execution_count": 92,
   "id": "4543c424-3486-4831-b01a-c4ca39dadfc0",
   "metadata": {},
   "outputs": [
    {
     "name": "stdout",
     "output_type": "stream",
     "text": [
      "              precision    recall  f1-score   support\n",
      "\n",
      "           0       0.64      1.00      0.78      1125\n",
      "           1       0.00      0.00      0.00       628\n",
      "\n",
      "    accuracy                           0.64      1753\n",
      "   macro avg       0.32      0.50      0.39      1753\n",
      "weighted avg       0.41      0.64      0.50      1753\n",
      "\n"
     ]
    },
    {
     "name": "stderr",
     "output_type": "stream",
     "text": [
      "/Library/Frameworks/Python.framework/Versions/3.9/lib/python3.9/site-packages/sklearn/metrics/_classification.py:1509: UndefinedMetricWarning: Precision is ill-defined and being set to 0.0 in labels with no predicted samples. Use `zero_division` parameter to control this behavior.\n",
      "  _warn_prf(average, modifier, f\"{metric.capitalize()} is\", len(result))\n",
      "/Library/Frameworks/Python.framework/Versions/3.9/lib/python3.9/site-packages/sklearn/metrics/_classification.py:1509: UndefinedMetricWarning: Precision is ill-defined and being set to 0.0 in labels with no predicted samples. Use `zero_division` parameter to control this behavior.\n",
      "  _warn_prf(average, modifier, f\"{metric.capitalize()} is\", len(result))\n",
      "/Library/Frameworks/Python.framework/Versions/3.9/lib/python3.9/site-packages/sklearn/metrics/_classification.py:1509: UndefinedMetricWarning: Precision is ill-defined and being set to 0.0 in labels with no predicted samples. Use `zero_division` parameter to control this behavior.\n",
      "  _warn_prf(average, modifier, f\"{metric.capitalize()} is\", len(result))\n"
     ]
    }
   ],
   "source": [
    "print(classification_report(test[target], model.predict(test.drop(columns=target))))"
   ]
  },
  {
   "cell_type": "code",
   "execution_count": 65,
   "id": "1ed75016-5007-4f48-96ce-2c4b0f32f547",
   "metadata": {},
   "outputs": [],
   "source": [
    "res = permutation_importance(model, train.drop(columns=target), train[target], n_repeats=10, random_state=42)"
   ]
  },
  {
   "cell_type": "code",
   "execution_count": 68,
   "id": "e6701bf1-f4d4-4dcf-b1b7-842338a8cb75",
   "metadata": {},
   "outputs": [],
   "source": [
    "new_features = [list(train.drop(columns=target).columns)[i] for i in res['importances_mean'].argsort()[::1] if res['importances_mean'][i] - 1*res['importances_std'][i] > 0]\n",
    "\n"
   ]
  },
  {
   "cell_type": "code",
   "execution_count": 69,
   "id": "9240f8c7-a048-4e07-a199-2542905052ac",
   "metadata": {},
   "outputs": [
    {
     "data": {
      "text/plain": [
       "[]"
      ]
     },
     "execution_count": 69,
     "metadata": {},
     "output_type": "execute_result"
    }
   ],
   "source": [
    "new_features"
   ]
  },
  {
   "cell_type": "code",
   "execution_count": 71,
   "id": "7c648e78-3dc4-434a-8c42-43a5f19aa657",
   "metadata": {},
   "outputs": [],
   "source": [
    "df = pd.read_csv('./heart_attack_prediction_dataset.csv')"
   ]
  },
  {
   "cell_type": "code",
   "execution_count": 72,
   "id": "a9e69090-b79e-4158-8d0e-b50d65711894",
   "metadata": {},
   "outputs": [],
   "source": [
    "df = df.drop(columns='Patient ID')"
   ]
  },
  {
   "cell_type": "code",
   "execution_count": 83,
   "id": "e94d3689-a76e-49e6-ab4a-2304154f8b28",
   "metadata": {},
   "outputs": [],
   "source": [
    "#df = df.drop(columns=text_columns)\n",
    "df = df.drop(columns=['Continent', 'Hemisphere'])"
   ]
  },
  {
   "cell_type": "code",
   "execution_count": 84,
   "id": "384c1ce5-d430-4afb-b775-6ffeaf5a8cb2",
   "metadata": {},
   "outputs": [
    {
     "data": {
      "image/png": "[encoded data removed]",
      "text/plain": [
       "<Figure size 1200x800 with 2 Axes>"
      ]
     },
     "metadata": {},
     "output_type": "display_data"
    }
   ],
   "source": [
    "plt.figure(figsize=(12, 8))\n",
    "correlation_matrix = df.corr()\n",
    "sns.heatmap(correlation_matrix, cmap='coolwarm', annot=False, fmt='.2f')\n",
    "plt.title(\"Корреляционная матрица признаков\")\n",
    "plt.show()"
   ]
  },
  {
   "cell_type": "code",
   "execution_count": 93,
   "id": "71a1435f-30d4-4c30-a358-1343588e4207",
   "metadata": {},
   "outputs": [
    {
     "data": {
      "text/plain": [
       "Heart Attack Risk\n",
       "0    3374\n",
       "1    1883\n",
       "Name: count, dtype: int64"
      ]
     },
     "execution_count": 93,
     "metadata": {},
     "output_type": "execute_result"
    }
   ],
   "source": [
    "train[target].value_counts()"
   ]
  },
  {
   "cell_type": "code",
   "execution_count": 94,
   "id": "b748f3df-7694-47f0-ba0e-91aeb927c56c",
   "metadata": {},
   "outputs": [
    {
     "data": {
      "text/plain": [
       "Heart Attack Risk\n",
       "0    1125\n",
       "1     628\n",
       "Name: count, dtype: int64"
      ]
     },
     "execution_count": 94,
     "metadata": {},
     "output_type": "execute_result"
    }
   ],
   "source": [
    "val[target].value_counts()"
   ]
  },
  {
   "cell_type": "code",
   "execution_count": 95,
   "id": "7cf6b86a-eaee-4958-be12-ae2b37ad7009",
   "metadata": {},
   "outputs": [
    {
     "data": {
      "text/plain": [
       "Heart Attack Risk\n",
       "0    1125\n",
       "1     628\n",
       "Name: count, dtype: int64"
      ]
     },
     "execution_count": 95,
     "metadata": {},
     "output_type": "execute_result"
    }
   ],
   "source": [
    "test[target].value_counts()"
   ]
  },
  {
   "cell_type": "code",
   "execution_count": 96,
   "id": "bf8a25fc-0b08-4025-a6fe-ffddc0448cac",
   "metadata": {
    "scrolled": true
   },
   "outputs": [
    {
     "data": {
      "text/plain": [
       "{'importances_mean': array([0., 0., 0., 0., 0., 0., 0., 0., 0., 0., 0., 0., 0., 0., 0., 0., 0.,\n",
       "        0., 0., 0., 0., 0.]),\n",
       " 'importances_std': array([0., 0., 0., 0., 0., 0., 0., 0., 0., 0., 0., 0., 0., 0., 0., 0., 0.,\n",
       "        0., 0., 0., 0., 0.]),\n",
       " 'importances': array([[0., 0., 0., 0., 0., 0., 0., 0., 0., 0.],\n",
       "        [0., 0., 0., 0., 0., 0., 0., 0., 0., 0.],\n",
       "        [0., 0., 0., 0., 0., 0., 0., 0., 0., 0.],\n",
       "        [0., 0., 0., 0., 0., 0., 0., 0., 0., 0.],\n",
       "        [0., 0., 0., 0., 0., 0., 0., 0., 0., 0.],\n",
       "        [0., 0., 0., 0., 0., 0., 0., 0., 0., 0.],\n",
       "        [0., 0., 0., 0., 0., 0., 0., 0., 0., 0.],\n",
       "        [0., 0., 0., 0., 0., 0., 0., 0., 0., 0.],\n",
       "        [0., 0., 0., 0., 0., 0., 0., 0., 0., 0.],\n",
       "        [0., 0., 0., 0., 0., 0., 0., 0., 0., 0.],\n",
       "        [0., 0., 0., 0., 0., 0., 0., 0., 0., 0.],\n",
       "        [0., 0., 0., 0., 0., 0., 0., 0., 0., 0.],\n",
       "        [0., 0., 0., 0., 0., 0., 0., 0., 0., 0.],\n",
       "        [0., 0., 0., 0., 0., 0., 0., 0., 0., 0.],\n",
       "        [0., 0., 0., 0., 0., 0., 0., 0., 0., 0.],\n",
       "        [0., 0., 0., 0., 0., 0., 0., 0., 0., 0.],\n",
       "        [0., 0., 0., 0., 0., 0., 0., 0., 0., 0.],\n",
       "        [0., 0., 0., 0., 0., 0., 0., 0., 0., 0.],\n",
       "        [0., 0., 0., 0., 0., 0., 0., 0., 0., 0.],\n",
       "        [0., 0., 0., 0., 0., 0., 0., 0., 0., 0.],\n",
       "        [0., 0., 0., 0., 0., 0., 0., 0., 0., 0.],\n",
       "        [0., 0., 0., 0., 0., 0., 0., 0., 0., 0.]])}"
      ]
     },
     "execution_count": 96,
     "metadata": {},
     "output_type": "execute_result"
    }
   ],
   "source": [
    "res"
   ]
  },
  {
   "cell_type": "markdown",
   "id": "8742f0f4-c679-4f5e-93b8-d9a8032d8eea",
   "metadata": {},
   "source": [
    "## Second catboost"
   ]
  },
  {
   "cell_type": "code",
   "execution_count": 9,
   "id": "d4c52bc9-c28a-41fd-9950-88047f4b4282",
   "metadata": {},
   "outputs": [],
   "source": [
    "train = train.drop(columns='Country')\n",
    "val = val.drop(columns='Country')\n",
    "test = test.drop(columns='Country')"
   ]
  },
  {
   "cell_type": "code",
   "execution_count": 10,
   "id": "9ac5d70f-d4a2-4bbc-bf22-98071e828a34",
   "metadata": {},
   "outputs": [
    {
     "data": {
      "text/html": [
       "<div>\n",
       "<style scoped>\n",
       "    .dataframe tbody tr th:only-of-type {\n",
       "        vertical-align: middle;\n",
       "    }\n",
       "\n",
       "    .dataframe tbody tr th {\n",
       "        vertical-align: top;\n",
       "    }\n",
       "\n",
       "    .dataframe thead th {\n",
       "        text-align: right;\n",
       "    }\n",
       "</style>\n",
       "<table border=\"1\" class=\"dataframe\">\n",
       "  <thead>\n",
       "    <tr style=\"text-align: right;\">\n",
       "      <th></th>\n",
       "      <th>Age</th>\n",
       "      <th>Sex</th>\n",
       "      <th>Cholesterol</th>\n",
       "      <th>Blood Pressure</th>\n",
       "      <th>Heart Rate</th>\n",
       "      <th>Diabetes</th>\n",
       "      <th>Family History</th>\n",
       "      <th>Smoking</th>\n",
       "      <th>Obesity</th>\n",
       "      <th>Alcohol Consumption</th>\n",
       "      <th>...</th>\n",
       "      <th>Previous Heart Problems</th>\n",
       "      <th>Medication Use</th>\n",
       "      <th>Stress Level</th>\n",
       "      <th>Sedentary Hours Per Day</th>\n",
       "      <th>Income</th>\n",
       "      <th>BMI</th>\n",
       "      <th>Triglycerides</th>\n",
       "      <th>Physical Activity Days Per Week</th>\n",
       "      <th>Sleep Hours Per Day</th>\n",
       "      <th>Heart Attack Risk</th>\n",
       "    </tr>\n",
       "  </thead>\n",
       "  <tbody>\n",
       "    <tr>\n",
       "      <th>5959</th>\n",
       "      <td>20</td>\n",
       "      <td>Male</td>\n",
       "      <td>302</td>\n",
       "      <td>131/107</td>\n",
       "      <td>79</td>\n",
       "      <td>1</td>\n",
       "      <td>1</td>\n",
       "      <td>1</td>\n",
       "      <td>0</td>\n",
       "      <td>0</td>\n",
       "      <td>...</td>\n",
       "      <td>1</td>\n",
       "      <td>1</td>\n",
       "      <td>8</td>\n",
       "      <td>9.270563</td>\n",
       "      <td>233116</td>\n",
       "      <td>30.582096</td>\n",
       "      <td>560</td>\n",
       "      <td>1</td>\n",
       "      <td>4</td>\n",
       "      <td>0</td>\n",
       "    </tr>\n",
       "    <tr>\n",
       "      <th>1884</th>\n",
       "      <td>75</td>\n",
       "      <td>Female</td>\n",
       "      <td>129</td>\n",
       "      <td>101/63</td>\n",
       "      <td>61</td>\n",
       "      <td>0</td>\n",
       "      <td>0</td>\n",
       "      <td>1</td>\n",
       "      <td>0</td>\n",
       "      <td>1</td>\n",
       "      <td>...</td>\n",
       "      <td>0</td>\n",
       "      <td>0</td>\n",
       "      <td>5</td>\n",
       "      <td>4.910913</td>\n",
       "      <td>282458</td>\n",
       "      <td>21.309652</td>\n",
       "      <td>787</td>\n",
       "      <td>5</td>\n",
       "      <td>9</td>\n",
       "      <td>0</td>\n",
       "    </tr>\n",
       "    <tr>\n",
       "      <th>3995</th>\n",
       "      <td>66</td>\n",
       "      <td>Male</td>\n",
       "      <td>201</td>\n",
       "      <td>172/91</td>\n",
       "      <td>59</td>\n",
       "      <td>1</td>\n",
       "      <td>0</td>\n",
       "      <td>1</td>\n",
       "      <td>0</td>\n",
       "      <td>0</td>\n",
       "      <td>...</td>\n",
       "      <td>1</td>\n",
       "      <td>0</td>\n",
       "      <td>4</td>\n",
       "      <td>7.882558</td>\n",
       "      <td>173413</td>\n",
       "      <td>39.936744</td>\n",
       "      <td>580</td>\n",
       "      <td>5</td>\n",
       "      <td>8</td>\n",
       "      <td>0</td>\n",
       "    </tr>\n",
       "    <tr>\n",
       "      <th>4045</th>\n",
       "      <td>63</td>\n",
       "      <td>Male</td>\n",
       "      <td>341</td>\n",
       "      <td>124/70</td>\n",
       "      <td>74</td>\n",
       "      <td>1</td>\n",
       "      <td>1</td>\n",
       "      <td>1</td>\n",
       "      <td>1</td>\n",
       "      <td>0</td>\n",
       "      <td>...</td>\n",
       "      <td>1</td>\n",
       "      <td>0</td>\n",
       "      <td>7</td>\n",
       "      <td>11.691194</td>\n",
       "      <td>62097</td>\n",
       "      <td>31.793333</td>\n",
       "      <td>590</td>\n",
       "      <td>3</td>\n",
       "      <td>5</td>\n",
       "      <td>1</td>\n",
       "    </tr>\n",
       "    <tr>\n",
       "      <th>2512</th>\n",
       "      <td>57</td>\n",
       "      <td>Male</td>\n",
       "      <td>242</td>\n",
       "      <td>110/81</td>\n",
       "      <td>105</td>\n",
       "      <td>1</td>\n",
       "      <td>0</td>\n",
       "      <td>1</td>\n",
       "      <td>0</td>\n",
       "      <td>1</td>\n",
       "      <td>...</td>\n",
       "      <td>1</td>\n",
       "      <td>0</td>\n",
       "      <td>4</td>\n",
       "      <td>1.459926</td>\n",
       "      <td>186510</td>\n",
       "      <td>38.382956</td>\n",
       "      <td>332</td>\n",
       "      <td>0</td>\n",
       "      <td>5</td>\n",
       "      <td>0</td>\n",
       "    </tr>\n",
       "    <tr>\n",
       "      <th>...</th>\n",
       "      <td>...</td>\n",
       "      <td>...</td>\n",
       "      <td>...</td>\n",
       "      <td>...</td>\n",
       "      <td>...</td>\n",
       "      <td>...</td>\n",
       "      <td>...</td>\n",
       "      <td>...</td>\n",
       "      <td>...</td>\n",
       "      <td>...</td>\n",
       "      <td>...</td>\n",
       "      <td>...</td>\n",
       "      <td>...</td>\n",
       "      <td>...</td>\n",
       "      <td>...</td>\n",
       "      <td>...</td>\n",
       "      <td>...</td>\n",
       "      <td>...</td>\n",
       "      <td>...</td>\n",
       "      <td>...</td>\n",
       "      <td>...</td>\n",
       "    </tr>\n",
       "    <tr>\n",
       "      <th>3547</th>\n",
       "      <td>55</td>\n",
       "      <td>Male</td>\n",
       "      <td>394</td>\n",
       "      <td>96/62</td>\n",
       "      <td>75</td>\n",
       "      <td>0</td>\n",
       "      <td>1</td>\n",
       "      <td>1</td>\n",
       "      <td>0</td>\n",
       "      <td>1</td>\n",
       "      <td>...</td>\n",
       "      <td>0</td>\n",
       "      <td>1</td>\n",
       "      <td>2</td>\n",
       "      <td>6.891463</td>\n",
       "      <td>98099</td>\n",
       "      <td>32.003506</td>\n",
       "      <td>752</td>\n",
       "      <td>2</td>\n",
       "      <td>6</td>\n",
       "      <td>0</td>\n",
       "    </tr>\n",
       "    <tr>\n",
       "      <th>885</th>\n",
       "      <td>56</td>\n",
       "      <td>Male</td>\n",
       "      <td>134</td>\n",
       "      <td>100/60</td>\n",
       "      <td>100</td>\n",
       "      <td>1</td>\n",
       "      <td>0</td>\n",
       "      <td>1</td>\n",
       "      <td>1</td>\n",
       "      <td>1</td>\n",
       "      <td>...</td>\n",
       "      <td>1</td>\n",
       "      <td>0</td>\n",
       "      <td>6</td>\n",
       "      <td>7.238427</td>\n",
       "      <td>119182</td>\n",
       "      <td>38.608541</td>\n",
       "      <td>71</td>\n",
       "      <td>5</td>\n",
       "      <td>9</td>\n",
       "      <td>0</td>\n",
       "    </tr>\n",
       "    <tr>\n",
       "      <th>8289</th>\n",
       "      <td>44</td>\n",
       "      <td>Male</td>\n",
       "      <td>174</td>\n",
       "      <td>145/105</td>\n",
       "      <td>66</td>\n",
       "      <td>1</td>\n",
       "      <td>1</td>\n",
       "      <td>1</td>\n",
       "      <td>0</td>\n",
       "      <td>0</td>\n",
       "      <td>...</td>\n",
       "      <td>0</td>\n",
       "      <td>0</td>\n",
       "      <td>10</td>\n",
       "      <td>11.547078</td>\n",
       "      <td>205271</td>\n",
       "      <td>24.808414</td>\n",
       "      <td>123</td>\n",
       "      <td>3</td>\n",
       "      <td>7</td>\n",
       "      <td>0</td>\n",
       "    </tr>\n",
       "    <tr>\n",
       "      <th>704</th>\n",
       "      <td>19</td>\n",
       "      <td>Female</td>\n",
       "      <td>366</td>\n",
       "      <td>159/63</td>\n",
       "      <td>45</td>\n",
       "      <td>0</td>\n",
       "      <td>0</td>\n",
       "      <td>0</td>\n",
       "      <td>0</td>\n",
       "      <td>1</td>\n",
       "      <td>...</td>\n",
       "      <td>0</td>\n",
       "      <td>0</td>\n",
       "      <td>3</td>\n",
       "      <td>3.756734</td>\n",
       "      <td>139056</td>\n",
       "      <td>35.791862</td>\n",
       "      <td>386</td>\n",
       "      <td>0</td>\n",
       "      <td>5</td>\n",
       "      <td>0</td>\n",
       "    </tr>\n",
       "    <tr>\n",
       "      <th>2024</th>\n",
       "      <td>41</td>\n",
       "      <td>Female</td>\n",
       "      <td>269</td>\n",
       "      <td>144/95</td>\n",
       "      <td>43</td>\n",
       "      <td>0</td>\n",
       "      <td>0</td>\n",
       "      <td>1</td>\n",
       "      <td>0</td>\n",
       "      <td>1</td>\n",
       "      <td>...</td>\n",
       "      <td>1</td>\n",
       "      <td>1</td>\n",
       "      <td>5</td>\n",
       "      <td>5.384025</td>\n",
       "      <td>75498</td>\n",
       "      <td>27.190687</td>\n",
       "      <td>264</td>\n",
       "      <td>0</td>\n",
       "      <td>4</td>\n",
       "      <td>1</td>\n",
       "    </tr>\n",
       "  </tbody>\n",
       "</table>\n",
       "<p>5257 rows × 22 columns</p>\n",
       "</div>"
      ],
      "text/plain": [
       "      Age     Sex  Cholesterol Blood Pressure  Heart Rate  Diabetes  \\\n",
       "5959   20    Male          302        131/107          79         1   \n",
       "1884   75  Female          129         101/63          61         0   \n",
       "3995   66    Male          201         172/91          59         1   \n",
       "4045   63    Male          341         124/70          74         1   \n",
       "2512   57    Male          242         110/81         105         1   \n",
       "...   ...     ...          ...            ...         ...       ...   \n",
       "3547   55    Male          394          96/62          75         0   \n",
       "885    56    Male          134         100/60         100         1   \n",
       "8289   44    Male          174        145/105          66         1   \n",
       "704    19  Female          366         159/63          45         0   \n",
       "2024   41  Female          269         144/95          43         0   \n",
       "\n",
       "      Family History  Smoking  Obesity  Alcohol Consumption  ...  \\\n",
       "5959               1        1        0                    0  ...   \n",
       "1884               0        1        0                    1  ...   \n",
       "3995               0        1        0                    0  ...   \n",
       "4045               1        1        1                    0  ...   \n",
       "2512               0        1        0                    1  ...   \n",
       "...              ...      ...      ...                  ...  ...   \n",
       "3547               1        1        0                    1  ...   \n",
       "885                0        1        1                    1  ...   \n",
       "8289               1        1        0                    0  ...   \n",
       "704                0        0        0                    1  ...   \n",
       "2024               0        1        0                    1  ...   \n",
       "\n",
       "      Previous Heart Problems Medication Use  Stress Level  \\\n",
       "5959                        1              1             8   \n",
       "1884                        0              0             5   \n",
       "3995                        1              0             4   \n",
       "4045                        1              0             7   \n",
       "2512                        1              0             4   \n",
       "...                       ...            ...           ...   \n",
       "3547                        0              1             2   \n",
       "885                         1              0             6   \n",
       "8289                        0              0            10   \n",
       "704                         0              0             3   \n",
       "2024                        1              1             5   \n",
       "\n",
       "      Sedentary Hours Per Day  Income        BMI  Triglycerides  \\\n",
       "5959                 9.270563  233116  30.582096            560   \n",
       "1884                 4.910913  282458  21.309652            787   \n",
       "3995                 7.882558  173413  39.936744            580   \n",
       "4045                11.691194   62097  31.793333            590   \n",
       "2512                 1.459926  186510  38.382956            332   \n",
       "...                       ...     ...        ...            ...   \n",
       "3547                 6.891463   98099  32.003506            752   \n",
       "885                  7.238427  119182  38.608541             71   \n",
       "8289                11.547078  205271  24.808414            123   \n",
       "704                  3.756734  139056  35.791862            386   \n",
       "2024                 5.384025   75498  27.190687            264   \n",
       "\n",
       "      Physical Activity Days Per Week  Sleep Hours Per Day  Heart Attack Risk  \n",
       "5959                                1                    4                  0  \n",
       "1884                                5                    9                  0  \n",
       "3995                                5                    8                  0  \n",
       "4045                                3                    5                  1  \n",
       "2512                                0                    5                  0  \n",
       "...                               ...                  ...                ...  \n",
       "3547                                2                    6                  0  \n",
       "885                                 5                    9                  0  \n",
       "8289                                3                    7                  0  \n",
       "704                                 0                    5                  0  \n",
       "2024                                0                    4                  1  \n",
       "\n",
       "[5257 rows x 22 columns]"
      ]
     },
     "execution_count": 10,
     "metadata": {},
     "output_type": "execute_result"
    }
   ],
   "source": [
    "train"
   ]
  },
  {
   "cell_type": "code",
   "execution_count": 11,
   "id": "b8614117-033f-4bc3-b845-8b8391ca58f8",
   "metadata": {},
   "outputs": [],
   "source": [
    "df = pd.read_csv('./heart_attack_prediction_dataset.csv')"
   ]
  },
  {
   "cell_type": "code",
   "execution_count": 12,
   "id": "b96890a6-ed02-4ff7-b0d9-031903b7b1b1",
   "metadata": {},
   "outputs": [
    {
     "data": {
      "text/html": [
       "<div>\n",
       "<style scoped>\n",
       "    .dataframe tbody tr th:only-of-type {\n",
       "        vertical-align: middle;\n",
       "    }\n",
       "\n",
       "    .dataframe tbody tr th {\n",
       "        vertical-align: top;\n",
       "    }\n",
       "\n",
       "    .dataframe thead th {\n",
       "        text-align: right;\n",
       "    }\n",
       "</style>\n",
       "<table border=\"1\" class=\"dataframe\">\n",
       "  <thead>\n",
       "    <tr style=\"text-align: right;\">\n",
       "      <th></th>\n",
       "      <th>Patient ID</th>\n",
       "      <th>Age</th>\n",
       "      <th>Sex</th>\n",
       "      <th>Cholesterol</th>\n",
       "      <th>Blood Pressure</th>\n",
       "      <th>Heart Rate</th>\n",
       "      <th>Diabetes</th>\n",
       "      <th>Family History</th>\n",
       "      <th>Smoking</th>\n",
       "      <th>Obesity</th>\n",
       "      <th>...</th>\n",
       "      <th>Sedentary Hours Per Day</th>\n",
       "      <th>Income</th>\n",
       "      <th>BMI</th>\n",
       "      <th>Triglycerides</th>\n",
       "      <th>Physical Activity Days Per Week</th>\n",
       "      <th>Sleep Hours Per Day</th>\n",
       "      <th>Country</th>\n",
       "      <th>Continent</th>\n",
       "      <th>Hemisphere</th>\n",
       "      <th>Heart Attack Risk</th>\n",
       "    </tr>\n",
       "  </thead>\n",
       "  <tbody>\n",
       "    <tr>\n",
       "      <th>0</th>\n",
       "      <td>BMW7812</td>\n",
       "      <td>67</td>\n",
       "      <td>Male</td>\n",
       "      <td>208</td>\n",
       "      <td>158/88</td>\n",
       "      <td>72</td>\n",
       "      <td>0</td>\n",
       "      <td>0</td>\n",
       "      <td>1</td>\n",
       "      <td>0</td>\n",
       "      <td>...</td>\n",
       "      <td>6.615001</td>\n",
       "      <td>261404</td>\n",
       "      <td>31.251233</td>\n",
       "      <td>286</td>\n",
       "      <td>0</td>\n",
       "      <td>6</td>\n",
       "      <td>Argentina</td>\n",
       "      <td>South America</td>\n",
       "      <td>Southern Hemisphere</td>\n",
       "      <td>0</td>\n",
       "    </tr>\n",
       "    <tr>\n",
       "      <th>1</th>\n",
       "      <td>CZE1114</td>\n",
       "      <td>21</td>\n",
       "      <td>Male</td>\n",
       "      <td>389</td>\n",
       "      <td>165/93</td>\n",
       "      <td>98</td>\n",
       "      <td>1</td>\n",
       "      <td>1</td>\n",
       "      <td>1</td>\n",
       "      <td>1</td>\n",
       "      <td>...</td>\n",
       "      <td>4.963459</td>\n",
       "      <td>285768</td>\n",
       "      <td>27.194973</td>\n",
       "      <td>235</td>\n",
       "      <td>1</td>\n",
       "      <td>7</td>\n",
       "      <td>Canada</td>\n",
       "      <td>North America</td>\n",
       "      <td>Northern Hemisphere</td>\n",
       "      <td>0</td>\n",
       "    </tr>\n",
       "    <tr>\n",
       "      <th>2</th>\n",
       "      <td>BNI9906</td>\n",
       "      <td>21</td>\n",
       "      <td>Female</td>\n",
       "      <td>324</td>\n",
       "      <td>174/99</td>\n",
       "      <td>72</td>\n",
       "      <td>1</td>\n",
       "      <td>0</td>\n",
       "      <td>0</td>\n",
       "      <td>0</td>\n",
       "      <td>...</td>\n",
       "      <td>9.463426</td>\n",
       "      <td>235282</td>\n",
       "      <td>28.176571</td>\n",
       "      <td>587</td>\n",
       "      <td>4</td>\n",
       "      <td>4</td>\n",
       "      <td>France</td>\n",
       "      <td>Europe</td>\n",
       "      <td>Northern Hemisphere</td>\n",
       "      <td>0</td>\n",
       "    </tr>\n",
       "    <tr>\n",
       "      <th>3</th>\n",
       "      <td>JLN3497</td>\n",
       "      <td>84</td>\n",
       "      <td>Male</td>\n",
       "      <td>383</td>\n",
       "      <td>163/100</td>\n",
       "      <td>73</td>\n",
       "      <td>1</td>\n",
       "      <td>1</td>\n",
       "      <td>1</td>\n",
       "      <td>0</td>\n",
       "      <td>...</td>\n",
       "      <td>7.648981</td>\n",
       "      <td>125640</td>\n",
       "      <td>36.464704</td>\n",
       "      <td>378</td>\n",
       "      <td>3</td>\n",
       "      <td>4</td>\n",
       "      <td>Canada</td>\n",
       "      <td>North America</td>\n",
       "      <td>Northern Hemisphere</td>\n",
       "      <td>0</td>\n",
       "    </tr>\n",
       "    <tr>\n",
       "      <th>4</th>\n",
       "      <td>GFO8847</td>\n",
       "      <td>66</td>\n",
       "      <td>Male</td>\n",
       "      <td>318</td>\n",
       "      <td>91/88</td>\n",
       "      <td>93</td>\n",
       "      <td>1</td>\n",
       "      <td>1</td>\n",
       "      <td>1</td>\n",
       "      <td>1</td>\n",
       "      <td>...</td>\n",
       "      <td>1.514821</td>\n",
       "      <td>160555</td>\n",
       "      <td>21.809144</td>\n",
       "      <td>231</td>\n",
       "      <td>1</td>\n",
       "      <td>5</td>\n",
       "      <td>Thailand</td>\n",
       "      <td>Asia</td>\n",
       "      <td>Northern Hemisphere</td>\n",
       "      <td>0</td>\n",
       "    </tr>\n",
       "    <tr>\n",
       "      <th>...</th>\n",
       "      <td>...</td>\n",
       "      <td>...</td>\n",
       "      <td>...</td>\n",
       "      <td>...</td>\n",
       "      <td>...</td>\n",
       "      <td>...</td>\n",
       "      <td>...</td>\n",
       "      <td>...</td>\n",
       "      <td>...</td>\n",
       "      <td>...</td>\n",
       "      <td>...</td>\n",
       "      <td>...</td>\n",
       "      <td>...</td>\n",
       "      <td>...</td>\n",
       "      <td>...</td>\n",
       "      <td>...</td>\n",
       "      <td>...</td>\n",
       "      <td>...</td>\n",
       "      <td>...</td>\n",
       "      <td>...</td>\n",
       "      <td>...</td>\n",
       "    </tr>\n",
       "    <tr>\n",
       "      <th>8758</th>\n",
       "      <td>MSV9918</td>\n",
       "      <td>60</td>\n",
       "      <td>Male</td>\n",
       "      <td>121</td>\n",
       "      <td>94/76</td>\n",
       "      <td>61</td>\n",
       "      <td>1</td>\n",
       "      <td>1</td>\n",
       "      <td>1</td>\n",
       "      <td>0</td>\n",
       "      <td>...</td>\n",
       "      <td>10.806373</td>\n",
       "      <td>235420</td>\n",
       "      <td>19.655895</td>\n",
       "      <td>67</td>\n",
       "      <td>7</td>\n",
       "      <td>7</td>\n",
       "      <td>Thailand</td>\n",
       "      <td>Asia</td>\n",
       "      <td>Northern Hemisphere</td>\n",
       "      <td>0</td>\n",
       "    </tr>\n",
       "    <tr>\n",
       "      <th>8759</th>\n",
       "      <td>QSV6764</td>\n",
       "      <td>28</td>\n",
       "      <td>Female</td>\n",
       "      <td>120</td>\n",
       "      <td>157/102</td>\n",
       "      <td>73</td>\n",
       "      <td>1</td>\n",
       "      <td>0</td>\n",
       "      <td>0</td>\n",
       "      <td>1</td>\n",
       "      <td>...</td>\n",
       "      <td>3.833038</td>\n",
       "      <td>217881</td>\n",
       "      <td>23.993866</td>\n",
       "      <td>617</td>\n",
       "      <td>4</td>\n",
       "      <td>9</td>\n",
       "      <td>Canada</td>\n",
       "      <td>North America</td>\n",
       "      <td>Northern Hemisphere</td>\n",
       "      <td>0</td>\n",
       "    </tr>\n",
       "    <tr>\n",
       "      <th>8760</th>\n",
       "      <td>XKA5925</td>\n",
       "      <td>47</td>\n",
       "      <td>Male</td>\n",
       "      <td>250</td>\n",
       "      <td>161/75</td>\n",
       "      <td>105</td>\n",
       "      <td>0</td>\n",
       "      <td>1</td>\n",
       "      <td>1</td>\n",
       "      <td>1</td>\n",
       "      <td>...</td>\n",
       "      <td>2.375214</td>\n",
       "      <td>36998</td>\n",
       "      <td>35.406146</td>\n",
       "      <td>527</td>\n",
       "      <td>4</td>\n",
       "      <td>4</td>\n",
       "      <td>Brazil</td>\n",
       "      <td>South America</td>\n",
       "      <td>Southern Hemisphere</td>\n",
       "      <td>1</td>\n",
       "    </tr>\n",
       "    <tr>\n",
       "      <th>8761</th>\n",
       "      <td>EPE6801</td>\n",
       "      <td>36</td>\n",
       "      <td>Male</td>\n",
       "      <td>178</td>\n",
       "      <td>119/67</td>\n",
       "      <td>60</td>\n",
       "      <td>1</td>\n",
       "      <td>0</td>\n",
       "      <td>1</td>\n",
       "      <td>0</td>\n",
       "      <td>...</td>\n",
       "      <td>0.029104</td>\n",
       "      <td>209943</td>\n",
       "      <td>27.294020</td>\n",
       "      <td>114</td>\n",
       "      <td>2</td>\n",
       "      <td>8</td>\n",
       "      <td>Brazil</td>\n",
       "      <td>South America</td>\n",
       "      <td>Southern Hemisphere</td>\n",
       "      <td>0</td>\n",
       "    </tr>\n",
       "    <tr>\n",
       "      <th>8762</th>\n",
       "      <td>ZWN9666</td>\n",
       "      <td>25</td>\n",
       "      <td>Female</td>\n",
       "      <td>356</td>\n",
       "      <td>138/67</td>\n",
       "      <td>75</td>\n",
       "      <td>1</td>\n",
       "      <td>1</td>\n",
       "      <td>0</td>\n",
       "      <td>0</td>\n",
       "      <td>...</td>\n",
       "      <td>9.005234</td>\n",
       "      <td>247338</td>\n",
       "      <td>32.914151</td>\n",
       "      <td>180</td>\n",
       "      <td>7</td>\n",
       "      <td>4</td>\n",
       "      <td>United Kingdom</td>\n",
       "      <td>Europe</td>\n",
       "      <td>Northern Hemisphere</td>\n",
       "      <td>1</td>\n",
       "    </tr>\n",
       "  </tbody>\n",
       "</table>\n",
       "<p>8763 rows × 26 columns</p>\n",
       "</div>"
      ],
      "text/plain": [
       "     Patient ID  Age     Sex  Cholesterol Blood Pressure  Heart Rate  \\\n",
       "0       BMW7812   67    Male          208         158/88          72   \n",
       "1       CZE1114   21    Male          389         165/93          98   \n",
       "2       BNI9906   21  Female          324         174/99          72   \n",
       "3       JLN3497   84    Male          383        163/100          73   \n",
       "4       GFO8847   66    Male          318          91/88          93   \n",
       "...         ...  ...     ...          ...            ...         ...   \n",
       "8758    MSV9918   60    Male          121          94/76          61   \n",
       "8759    QSV6764   28  Female          120        157/102          73   \n",
       "8760    XKA5925   47    Male          250         161/75         105   \n",
       "8761    EPE6801   36    Male          178         119/67          60   \n",
       "8762    ZWN9666   25  Female          356         138/67          75   \n",
       "\n",
       "      Diabetes  Family History  Smoking  Obesity  ...  \\\n",
       "0            0               0        1        0  ...   \n",
       "1            1               1        1        1  ...   \n",
       "2            1               0        0        0  ...   \n",
       "3            1               1        1        0  ...   \n",
       "4            1               1        1        1  ...   \n",
       "...        ...             ...      ...      ...  ...   \n",
       "8758         1               1        1        0  ...   \n",
       "8759         1               0        0        1  ...   \n",
       "8760         0               1        1        1  ...   \n",
       "8761         1               0        1        0  ...   \n",
       "8762         1               1        0        0  ...   \n",
       "\n",
       "      Sedentary Hours Per Day  Income        BMI  Triglycerides  \\\n",
       "0                    6.615001  261404  31.251233            286   \n",
       "1                    4.963459  285768  27.194973            235   \n",
       "2                    9.463426  235282  28.176571            587   \n",
       "3                    7.648981  125640  36.464704            378   \n",
       "4                    1.514821  160555  21.809144            231   \n",
       "...                       ...     ...        ...            ...   \n",
       "8758                10.806373  235420  19.655895             67   \n",
       "8759                 3.833038  217881  23.993866            617   \n",
       "8760                 2.375214   36998  35.406146            527   \n",
       "8761                 0.029104  209943  27.294020            114   \n",
       "8762                 9.005234  247338  32.914151            180   \n",
       "\n",
       "      Physical Activity Days Per Week  Sleep Hours Per Day         Country  \\\n",
       "0                                   0                    6       Argentina   \n",
       "1                                   1                    7          Canada   \n",
       "2                                   4                    4          France   \n",
       "3                                   3                    4          Canada   \n",
       "4                                   1                    5        Thailand   \n",
       "...                               ...                  ...             ...   \n",
       "8758                                7                    7        Thailand   \n",
       "8759                                4                    9          Canada   \n",
       "8760                                4                    4          Brazil   \n",
       "8761                                2                    8          Brazil   \n",
       "8762                                7                    4  United Kingdom   \n",
       "\n",
       "          Continent           Hemisphere  Heart Attack Risk  \n",
       "0     South America  Southern Hemisphere                  0  \n",
       "1     North America  Northern Hemisphere                  0  \n",
       "2            Europe  Northern Hemisphere                  0  \n",
       "3     North America  Northern Hemisphere                  0  \n",
       "4              Asia  Northern Hemisphere                  0  \n",
       "...             ...                  ...                ...  \n",
       "8758           Asia  Northern Hemisphere                  0  \n",
       "8759  North America  Northern Hemisphere                  0  \n",
       "8760  South America  Southern Hemisphere                  1  \n",
       "8761  South America  Southern Hemisphere                  0  \n",
       "8762         Europe  Northern Hemisphere                  1  \n",
       "\n",
       "[8763 rows x 26 columns]"
      ]
     },
     "execution_count": 12,
     "metadata": {},
     "output_type": "execute_result"
    }
   ],
   "source": [
    "df"
   ]
  },
  {
   "cell_type": "code",
   "execution_count": 13,
   "id": "be750a70-7d01-42d9-b75b-29e34b89d81b",
   "metadata": {},
   "outputs": [],
   "source": [
    "df = df.drop(columns=['Patient ID', 'Country', 'Continent', 'Hemisphere'])"
   ]
  },
  {
   "cell_type": "code",
   "execution_count": 14,
   "id": "6e838ab3-08ec-4d07-b644-f85b048f63ca",
   "metadata": {},
   "outputs": [
    {
     "name": "stdout",
     "output_type": "stream",
     "text": [
      "<class 'pandas.core.frame.DataFrame'>\n",
      "RangeIndex: 8763 entries, 0 to 8762\n",
      "Data columns (total 22 columns):\n",
      " #   Column                           Non-Null Count  Dtype  \n",
      "---  ------                           --------------  -----  \n",
      " 0   Age                              8763 non-null   int64  \n",
      " 1   Sex                              8763 non-null   object \n",
      " 2   Cholesterol                      8763 non-null   int64  \n",
      " 3   Blood Pressure                   8763 non-null   object \n",
      " 4   Heart Rate                       8763 non-null   int64  \n",
      " 5   Diabetes                         8763 non-null   int64  \n",
      " 6   Family History                   8763 non-null   int64  \n",
      " 7   Smoking                          8763 non-null   int64  \n",
      " 8   Obesity                          8763 non-null   int64  \n",
      " 9   Alcohol Consumption              8763 non-null   int64  \n",
      " 10  Exercise Hours Per Week          8763 non-null   float64\n",
      " 11  Diet                             8763 non-null   object \n",
      " 12  Previous Heart Problems          8763 non-null   int64  \n",
      " 13  Medication Use                   8763 non-null   int64  \n",
      " 14  Stress Level                     8763 non-null   int64  \n",
      " 15  Sedentary Hours Per Day          8763 non-null   float64\n",
      " 16  Income                           8763 non-null   int64  \n",
      " 17  BMI                              8763 non-null   float64\n",
      " 18  Triglycerides                    8763 non-null   int64  \n",
      " 19  Physical Activity Days Per Week  8763 non-null   int64  \n",
      " 20  Sleep Hours Per Day              8763 non-null   int64  \n",
      " 21  Heart Attack Risk                8763 non-null   int64  \n",
      "dtypes: float64(3), int64(16), object(3)\n",
      "memory usage: 1.5+ MB\n"
     ]
    }
   ],
   "source": [
    "df.info()"
   ]
  },
  {
   "cell_type": "code",
   "execution_count": 15,
   "id": "44d24cf8-d261-46db-9e8c-25a0cd16eb83",
   "metadata": {},
   "outputs": [
    {
     "data": {
      "text/plain": [
       "array(['Average', 'Unhealthy', 'Healthy'], dtype=object)"
      ]
     },
     "execution_count": 15,
     "metadata": {},
     "output_type": "execute_result"
    }
   ],
   "source": [
    "df['Diet'].unique()"
   ]
  },
  {
   "cell_type": "code",
   "execution_count": 16,
   "id": "93a31b58-2ee0-4e3f-8ade-47df824338ec",
   "metadata": {},
   "outputs": [
    {
     "data": {
      "image/png": "[encoded data removed]",
      "text/plain": [
       "<Figure size 600x400 with 1 Axes>"
      ]
     },
     "metadata": {},
     "output_type": "display_data"
    }
   ],
   "source": [
    "plt.figure(figsize=(6, 4))\n",
    "sns.countplot(x='Heart Attack Risk', data=df)\n",
    "plt.title('Распределение целевой переменной')\n",
    "plt.show()\n"
   ]
  },
  {
   "cell_type": "code",
   "execution_count": null,
   "id": "cef7504e-c57d-49f3-8430-10500c26a3b7",
   "metadata": {},
   "outputs": [],
   "source": []
  },
  {
   "cell_type": "code",
   "execution_count": 58,
   "id": "9428c49e-4f60-4901-a3d9-b1d02d90e160",
   "metadata": {},
   "outputs": [
    {
     "data": {
      "image/png": "[encoded data removed]",
      "text/plain": [
       "<Figure size 800x400 with 1 Axes>"
      ]
     },
     "metadata": {},
     "output_type": "display_data"
    }
   ],
   "source": [
    "plt.figure(figsize=(8, 4))\n",
    "sns.boxplot(x=df['Smoking'])\n",
    "plt.show()\n"
   ]
  },
  {
   "cell_type": "code",
   "execution_count": 63,
   "id": "4fc3f30c-8bd7-4112-bf83-c1ed9c0bd251",
   "metadata": {},
   "outputs": [
    {
     "name": "stdout",
     "output_type": "stream",
     "text": [
      "<class 'pandas.core.frame.DataFrame'>\n",
      "Index: 5257 entries, 5959 to 2024\n",
      "Data columns (total 22 columns):\n",
      " #   Column                           Non-Null Count  Dtype  \n",
      "---  ------                           --------------  -----  \n",
      " 0   Age                              5257 non-null   int64  \n",
      " 1   Sex                              5257 non-null   object \n",
      " 2   Cholesterol                      5257 non-null   int64  \n",
      " 3   Blood Pressure                   5257 non-null   object \n",
      " 4   Heart Rate                       5257 non-null   int64  \n",
      " 5   Diabetes                         5257 non-null   int64  \n",
      " 6   Family History                   5257 non-null   int64  \n",
      " 7   Smoking                          5257 non-null   int64  \n",
      " 8   Obesity                          5257 non-null   int64  \n",
      " 9   Alcohol Consumption              5257 non-null   int64  \n",
      " 10  Exercise Hours Per Week          5257 non-null   float64\n",
      " 11  Diet                             5257 non-null   object \n",
      " 12  Previous Heart Problems          5257 non-null   int64  \n",
      " 13  Medication Use                   5257 non-null   int64  \n",
      " 14  Stress Level                     5257 non-null   int64  \n",
      " 15  Sedentary Hours Per Day          5257 non-null   float64\n",
      " 16  Income                           5257 non-null   int64  \n",
      " 17  BMI                              5257 non-null   float64\n",
      " 18  Triglycerides                    5257 non-null   int64  \n",
      " 19  Physical Activity Days Per Week  5257 non-null   int64  \n",
      " 20  Sleep Hours Per Day              5257 non-null   int64  \n",
      " 21  Heart Attack Risk                5257 non-null   int64  \n",
      "dtypes: float64(3), int64(16), object(3)\n",
      "memory usage: 944.6+ KB\n"
     ]
    }
   ],
   "source": [
    "train.info()"
   ]
  },
  {
   "cell_type": "code",
   "execution_count": 64,
   "id": "ad6da2d3-ea1a-4cc4-805b-b67f8a21d32c",
   "metadata": {},
   "outputs": [],
   "source": [
    "train = train.drop(columns=['Smoking'])\n",
    "val = val.drop(columns=['Smoking'])\n",
    "test = test.drop(columns=['Smoking'])"
   ]
  },
  {
   "cell_type": "code",
   "execution_count": 65,
   "id": "7efb11fe-1458-420e-8e95-a9b2a69f28ec",
   "metadata": {},
   "outputs": [],
   "source": [
    "text_columns = train.select_dtypes(include='object').columns.tolist()"
   ]
  },
  {
   "cell_type": "code",
   "execution_count": 66,
   "id": "e1a065cd-6a2a-41d8-b3bd-24e6b5dcb73c",
   "metadata": {},
   "outputs": [
    {
     "data": {
      "text/plain": [
       "['Sex', 'Blood Pressure', 'Diet']"
      ]
     },
     "execution_count": 66,
     "metadata": {},
     "output_type": "execute_result"
    }
   ],
   "source": [
    "text_columns"
   ]
  },
  {
   "cell_type": "code",
   "execution_count": 67,
   "id": "8efc31d4-cbda-4ce4-96c5-1bed12544e2f",
   "metadata": {},
   "outputs": [
    {
     "name": "stdout",
     "output_type": "stream",
     "text": [
      "0:\tlearn: 0.6850263\ttest: 0.6852190\tbest: 0.6852190 (0)\ttotal: 65.9ms\tremaining: 1m 5s\n",
      "100:\tlearn: 0.6337207\ttest: 0.6537897\tbest: 0.6521717 (49)\ttotal: 278ms\tremaining: 2.48s\n",
      "200:\tlearn: 0.6090972\ttest: 0.6593441\tbest: 0.6521717 (49)\ttotal: 486ms\tremaining: 1.93s\n",
      "300:\tlearn: 0.5909761\ttest: 0.6609786\tbest: 0.6521717 (49)\ttotal: 705ms\tremaining: 1.64s\n",
      "400:\tlearn: 0.5755965\ttest: 0.6648101\tbest: 0.6521717 (49)\ttotal: 932ms\tremaining: 1.39s\n",
      "500:\tlearn: 0.5590868\ttest: 0.6678041\tbest: 0.6521717 (49)\ttotal: 1.16s\tremaining: 1.16s\n",
      "600:\tlearn: 0.5440603\ttest: 0.6701985\tbest: 0.6521717 (49)\ttotal: 1.38s\tremaining: 916ms\n",
      "700:\tlearn: 0.5299748\ttest: 0.6720831\tbest: 0.6521717 (49)\ttotal: 1.6s\tremaining: 685ms\n",
      "800:\tlearn: 0.5175347\ttest: 0.6749979\tbest: 0.6521717 (49)\ttotal: 1.83s\tremaining: 454ms\n",
      "900:\tlearn: 0.5055769\ttest: 0.6744923\tbest: 0.6521717 (49)\ttotal: 2.06s\tremaining: 226ms\n",
      "999:\tlearn: 0.4946779\ttest: 0.6764884\tbest: 0.6521717 (49)\ttotal: 2.28s\tremaining: 0us\n",
      "\n",
      "bestTest = 0.6521716946\n",
      "bestIteration = 49\n",
      "\n",
      "Shrink model to first 50 iterations.\n"
     ]
    },
    {
     "data": {
      "text/plain": [
       "<catboost.core.CatBoostClassifier at 0x17c6fe3d0>"
      ]
     },
     "execution_count": 67,
     "metadata": {},
     "output_type": "execute_result"
    }
   ],
   "source": [
    "model = CatBoostClassifier(iterations=1000, learning_rate=0.1, depth=3, cat_features=text_columns, random_seed=42)\n",
    "model.fit(train.drop(columns=target), train[target], eval_set = (val.drop(columns=target), val[target]), verbose=100)"
   ]
  },
  {
   "cell_type": "code",
   "execution_count": 68,
   "id": "24d15e77-a718-4fbb-89f9-654d742593df",
   "metadata": {},
   "outputs": [
    {
     "name": "stdout",
     "output_type": "stream",
     "text": [
      "TRAIN : 0.6059596029869474\n",
      "VAL : 0.5132611464968153\n",
      "TEST : 0.5282307147912244\n"
     ]
    }
   ],
   "source": [
    "print(f\"TRAIN : {roc_auc_score(train[target], model.predict_proba(train.drop(columns=target))[:, 1])}\")\n",
    "print(f\"VAL : {roc_auc_score(val[target], model.predict_proba(val.drop(columns=target))[:, 1])}\")\n",
    "print(f\"TEST : {roc_auc_score(test[target], model.predict_proba(test.drop(columns=target))[:, 1])}\")"
   ]
  },
  {
   "cell_type": "code",
   "execution_count": 69,
   "id": "a46f4587-4587-4f5c-8cc0-96cc375a31e3",
   "metadata": {},
   "outputs": [],
   "source": [
    "train = train.drop(columns=['Blood Pressure'])\n",
    "val = val.drop(columns=['Blood Pressure'])\n",
    "test = test.drop(columns=['Blood Pressure'])"
   ]
  },
  {
   "cell_type": "code",
   "execution_count": null,
   "id": "0cad69b4-983c-4d45-bcb7-4f1fb9825143",
   "metadata": {},
   "outputs": [],
   "source": []
  },
  {
   "cell_type": "code",
   "execution_count": 72,
   "id": "8b1ed63d-0163-43a1-8260-bcc8eb0f7502",
   "metadata": {},
   "outputs": [],
   "source": [
    "text_columns = train.select_dtypes(include='object').columns.tolist()"
   ]
  },
  {
   "cell_type": "code",
   "execution_count": 81,
   "id": "bd9d90a0-b188-4137-bf97-d26c46933220",
   "metadata": {},
   "outputs": [
    {
     "name": "stdout",
     "output_type": "stream",
     "text": [
      "0:\tlearn: 0.6851603\ttest: 0.6853714\tbest: 0.6853714 (0)\ttotal: 3.15ms\tremaining: 3.14s\n",
      "100:\tlearn: 0.6329865\ttest: 0.6546433\tbest: 0.6533897 (20)\ttotal: 204ms\tremaining: 1.82s\n",
      "200:\tlearn: 0.6086518\ttest: 0.6582209\tbest: 0.6533897 (20)\ttotal: 394ms\tremaining: 1.57s\n",
      "300:\tlearn: 0.5869975\ttest: 0.6608341\tbest: 0.6533897 (20)\ttotal: 594ms\tremaining: 1.38s\n",
      "400:\tlearn: 0.5696283\ttest: 0.6618595\tbest: 0.6533897 (20)\ttotal: 795ms\tremaining: 1.19s\n",
      "500:\tlearn: 0.5529516\ttest: 0.6660376\tbest: 0.6533897 (20)\ttotal: 991ms\tremaining: 987ms\n",
      "600:\tlearn: 0.5387537\ttest: 0.6673833\tbest: 0.6533897 (20)\ttotal: 1.18s\tremaining: 783ms\n",
      "700:\tlearn: 0.5243345\ttest: 0.6707435\tbest: 0.6533897 (20)\ttotal: 1.39s\tremaining: 591ms\n",
      "800:\tlearn: 0.5112313\ttest: 0.6715657\tbest: 0.6533897 (20)\ttotal: 1.59s\tremaining: 396ms\n",
      "900:\tlearn: 0.4986545\ttest: 0.6742985\tbest: 0.6533897 (20)\ttotal: 1.8s\tremaining: 198ms\n",
      "999:\tlearn: 0.4873125\ttest: 0.6768816\tbest: 0.6533897 (20)\ttotal: 2s\tremaining: 0us\n",
      "\n",
      "bestTest = 0.6533896992\n",
      "bestIteration = 20\n",
      "\n",
      "Shrink model to first 21 iterations.\n"
     ]
    },
    {
     "data": {
      "text/plain": [
       "<catboost.core.CatBoostClassifier at 0x17c369a00>"
      ]
     },
     "execution_count": 81,
     "metadata": {},
     "output_type": "execute_result"
    }
   ],
   "source": [
    "model = CatBoostClassifier(iterations=1000, learning_rate=0.1, depth=3, cat_features=text_columns, random_seed=42)\n",
    "model.fit(train.drop(columns=target), train[target], eval_set = (val.drop(columns=target), val[target]), verbose=100)"
   ]
  },
  {
   "cell_type": "code",
   "execution_count": 82,
   "id": "8881f34e-5944-445b-941d-f957634efd90",
   "metadata": {},
   "outputs": [
    {
     "name": "stdout",
     "output_type": "stream",
     "text": [
      "TRAIN : 0.5827929268238168\n",
      "VAL : 0.4892823779193206\n",
      "TEST : 0.5116022646850673\n"
     ]
    }
   ],
   "source": [
    "print(f\"TRAIN : {roc_auc_score(train[target], model.predict_proba(train.drop(columns=target))[:, 1])}\")\n",
    "print(f\"VAL : {roc_auc_score(val[target], model.predict_proba(val.drop(columns=target))[:, 1])}\")\n",
    "print(f\"TEST : {roc_auc_score(test[target], model.predict_proba(test.drop(columns=target))[:, 1])}\")"
   ]
  },
  {
   "cell_type": "code",
   "execution_count": 83,
   "id": "b62ccc71-c48d-47a1-8b5b-7c4b5e786c6a",
   "metadata": {},
   "outputs": [
    {
     "name": "stdout",
     "output_type": "stream",
     "text": [
      "              precision    recall  f1-score   support\n",
      "\n",
      "           0       0.64      1.00      0.78      1125\n",
      "           1       0.00      0.00      0.00       628\n",
      "\n",
      "    accuracy                           0.64      1753\n",
      "   macro avg       0.32      0.50      0.39      1753\n",
      "weighted avg       0.41      0.64      0.50      1753\n",
      "\n"
     ]
    },
    {
     "name": "stderr",
     "output_type": "stream",
     "text": [
      "/Library/Frameworks/Python.framework/Versions/3.9/lib/python3.9/site-packages/sklearn/metrics/_classification.py:1509: UndefinedMetricWarning: Precision is ill-defined and being set to 0.0 in labels with no predicted samples. Use `zero_division` parameter to control this behavior.\n",
      "  _warn_prf(average, modifier, f\"{metric.capitalize()} is\", len(result))\n",
      "/Library/Frameworks/Python.framework/Versions/3.9/lib/python3.9/site-packages/sklearn/metrics/_classification.py:1509: UndefinedMetricWarning: Precision is ill-defined and being set to 0.0 in labels with no predicted samples. Use `zero_division` parameter to control this behavior.\n",
      "  _warn_prf(average, modifier, f\"{metric.capitalize()} is\", len(result))\n",
      "/Library/Frameworks/Python.framework/Versions/3.9/lib/python3.9/site-packages/sklearn/metrics/_classification.py:1509: UndefinedMetricWarning: Precision is ill-defined and being set to 0.0 in labels with no predicted samples. Use `zero_division` parameter to control this behavior.\n",
      "  _warn_prf(average, modifier, f\"{metric.capitalize()} is\", len(result))\n"
     ]
    }
   ],
   "source": [
    "print(classification_report(test[target], model.predict(test.drop(columns=target))))"
   ]
  },
  {
   "cell_type": "markdown",
   "id": "2c40488b-8820-4566-b4ec-586b4cec02af",
   "metadata": {},
   "source": [
    "## Third catboost"
   ]
  },
  {
   "cell_type": "code",
   "execution_count": 84,
   "id": "5a11242a-5c6d-417f-b2a0-f05eb70d76ff",
   "metadata": {},
   "outputs": [],
   "source": [
    "from imblearn.over_sampling import SMOTE"
   ]
  },
  {
   "cell_type": "code",
   "execution_count": 85,
   "id": "537e8fbe-632c-4163-881f-ef3d6e71bfb3",
   "metadata": {},
   "outputs": [],
   "source": [
    "smote = SMOTE(random_state=42)"
   ]
  },
  {
   "cell_type": "code",
   "execution_count": 86,
   "id": "22f5d667-9450-44b8-9ce2-a6b1600c100f",
   "metadata": {},
   "outputs": [],
   "source": [
    "y_train = train[target]\n",
    "x_train = train.drop(columns=[target])\n",
    "y_val = val[target]\n",
    "x_val = val.drop(columns=[target])\n",
    "y_test = test[target]\n",
    "x_test = test.drop(columns=[target])"
   ]
  },
  {
   "cell_type": "code",
   "execution_count": 96,
   "id": "382027d3-8e71-42d4-b9f8-4d34f68157eb",
   "metadata": {},
   "outputs": [],
   "source": [
    "#x_train = pd.get_dummies(x_train, columns=['Sex', 'Diet'], drop_first=True)\n",
    "x_val = pd.get_dummies(x_val, columns=['Sex', 'Diet'], drop_first=True)\n",
    "x_test = pd.get_dummies(x_test, columns=['Sex', 'Diet'], drop_first=True)\n"
   ]
  },
  {
   "cell_type": "code",
   "execution_count": 99,
   "id": "28bd50a5-1500-4571-9038-423d84e5eaf6",
   "metadata": {},
   "outputs": [],
   "source": [
    "x_train_new, y_train_new = smote.fit_resample(x_train, y_train)\n",
    "x_val_new, y_val_new = smote.fit_resample(x_val, y_val)\n",
    "x_test_new, y_test_new = smote.fit_resample(x_test, y_test)"
   ]
  },
  {
   "cell_type": "code",
   "execution_count": 108,
   "id": "c74c4c7e-2475-4ac3-8c3b-9ec13d5f205f",
   "metadata": {},
   "outputs": [
    {
     "name": "stdout",
     "output_type": "stream",
     "text": [
      "0:\tlearn: 0.6884098\ttest: 0.6914031\tbest: 0.6914031 (0)\ttotal: 2.45ms\tremaining: 2.45s\n",
      "100:\tlearn: 0.5980014\ttest: 0.6830860\tbest: 0.6792506 (30)\ttotal: 132ms\tremaining: 1.18s\n",
      "200:\tlearn: 0.5675975\ttest: 0.6919802\tbest: 0.6792506 (30)\ttotal: 260ms\tremaining: 1.03s\n",
      "300:\tlearn: 0.5441116\ttest: 0.6956486\tbest: 0.6792506 (30)\ttotal: 375ms\tremaining: 872ms\n",
      "400:\tlearn: 0.5255031\ttest: 0.6973649\tbest: 0.6792506 (30)\ttotal: 492ms\tremaining: 735ms\n",
      "500:\tlearn: 0.5092111\ttest: 0.7033257\tbest: 0.6792506 (30)\ttotal: 608ms\tremaining: 606ms\n",
      "600:\tlearn: 0.4940296\ttest: 0.7056451\tbest: 0.6792506 (30)\ttotal: 733ms\tremaining: 486ms\n",
      "700:\tlearn: 0.4805142\ttest: 0.7093932\tbest: 0.6792506 (30)\ttotal: 859ms\tremaining: 366ms\n",
      "800:\tlearn: 0.4674907\ttest: 0.7116300\tbest: 0.6792506 (30)\ttotal: 980ms\tremaining: 243ms\n",
      "900:\tlearn: 0.4551953\ttest: 0.7141107\tbest: 0.6792506 (30)\ttotal: 1.1s\tremaining: 121ms\n",
      "999:\tlearn: 0.4441234\ttest: 0.7167474\tbest: 0.6792506 (30)\ttotal: 1.22s\tremaining: 0us\n",
      "\n",
      "bestTest = 0.679250609\n",
      "bestIteration = 30\n",
      "\n",
      "Shrink model to first 31 iterations.\n"
     ]
    },
    {
     "data": {
      "text/plain": [
       "<catboost.core.CatBoostClassifier at 0x286c0da60>"
      ]
     },
     "execution_count": 108,
     "metadata": {},
     "output_type": "execute_result"
    }
   ],
   "source": [
    "model = CatBoostClassifier(iterations=1000, learning_rate=0.1, depth=3, random_seed=42)\n",
    "model.fit(x_train_new, y_train_new, eval_set = (x_val, y_val), verbose=100)"
   ]
  },
  {
   "cell_type": "code",
   "execution_count": 107,
   "id": "23d283d7-e42d-48f6-8fe0-598c12f2f776",
   "metadata": {},
   "outputs": [
    {
     "name": "stdout",
     "output_type": "stream",
     "text": [
      "TRAIN : 0.7939011282273278\n",
      "VAL : 0.6993200987654321\n",
      "TEST : 0.6766885925925926\n"
     ]
    }
   ],
   "source": [
    "print(f\"TRAIN : {roc_auc_score(y_train_new, model.predict_proba(x_train_new)[:, 1])}\")\n",
    "print(f\"VAL : {roc_auc_score(y_val_new, model.predict_proba(x_val_new)[:, 1])}\")\n",
    "print(f\"TEST : {roc_auc_score(y_test_new, model.predict_proba(x_test_new)[:, 1])}\")"
   ]
  },
  {
   "cell_type": "code",
   "execution_count": 109,
   "id": "d2bdc35e-fbaf-4f64-ba2b-e682cd395edf",
   "metadata": {},
   "outputs": [
    {
     "name": "stdout",
     "output_type": "stream",
     "text": [
      "TRAIN : 0.708774190794067\n",
      "VAL : 0.5145378627034678\n",
      "TEST : 0.4848365180467091\n"
     ]
    }
   ],
   "source": [
    "print(f\"TRAIN : {roc_auc_score(y_train_new, model.predict_proba(x_train_new)[:, 1])}\")\n",
    "print(f\"VAL : {roc_auc_score(y_val, model.predict_proba(x_val)[:, 1])}\")\n",
    "print(f\"TEST : {roc_auc_score(y_test, model.predict_proba(x_test)[:, 1])}\")"
   ]
  },
  {
   "cell_type": "markdown",
   "id": "1b8a0bea-56be-4726-9bef-9a5e975bc764",
   "metadata": {},
   "source": [
    "## Less zeros catboost"
   ]
  },
  {
   "cell_type": "code",
   "execution_count": null,
   "id": "1ba15c9a-5a45-43a3-ba07-87befa454f18",
   "metadata": {},
   "outputs": [],
   "source": []
  },
  {
   "cell_type": "code",
   "execution_count": 4,
   "id": "def425af-773b-4fe9-995d-ed3bd722caf0",
   "metadata": {},
   "outputs": [],
   "source": [
    "df = pd.read_csv('heart_attack_prediction_dataset.csv')"
   ]
  },
  {
   "cell_type": "code",
   "execution_count": 6,
   "id": "75516f5a-40df-45ec-8b9f-2ad0be5bd103",
   "metadata": {},
   "outputs": [
    {
     "data": {
      "text/plain": [
       "Heart Attack Risk\n",
       "0    5624\n",
       "1    3139\n",
       "Name: count, dtype: int64"
      ]
     },
     "execution_count": 6,
     "metadata": {},
     "output_type": "execute_result"
    }
   ],
   "source": [
    "df['Heart Attack Risk'].value_counts()"
   ]
  },
  {
   "cell_type": "code",
   "execution_count": 10,
   "id": "7090cee8-ed05-4c7c-bf44-bb5a9bf48081",
   "metadata": {},
   "outputs": [
    {
     "name": "stdout",
     "output_type": "stream",
     "text": [
      "Heart Attack Risk\n",
      "1    3139\n",
      "0    3139\n",
      "Name: count, dtype: int64\n"
     ]
    }
   ],
   "source": [
    "zeros_sample = df[df[target] == 0].sample(n=3139, random_state=42)\n",
    "\n",
    "ones_sample = df[df[target] == 1]\n",
    "\n",
    "balanced_df = pd.concat([zeros_sample, ones_sample]).sample(frac=1, random_state=42).reset_index(drop=True)\n",
    "\n",
    "print(balanced_df[target].value_counts())"
   ]
  },
  {
   "cell_type": "code",
   "execution_count": 11,
   "id": "77522d62-3808-4ebf-96fa-69063ef3ae19",
   "metadata": {},
   "outputs": [],
   "source": [
    "target = 'Heart Attack Risk'"
   ]
  },
  {
   "cell_type": "code",
   "execution_count": 14,
   "id": "b50417d2-166a-4318-bc71-7aa90a6b180e",
   "metadata": {},
   "outputs": [],
   "source": [
    "train_new, test_new = train_test_split(df, test_size=0.2, random_state=0)"
   ]
  },
  {
   "cell_type": "code",
   "execution_count": 15,
   "id": "38bf72a0-379d-47bc-8db5-19c0c9db0acc",
   "metadata": {},
   "outputs": [],
   "source": [
    "train_new, val_new = train_test_split(train_new, test_size=0.25, random_state=0)"
   ]
  },
  {
   "cell_type": "code",
   "execution_count": 16,
   "id": "b024a1a5-3409-4cee-aaf9-c3e0355739f3",
   "metadata": {},
   "outputs": [],
   "source": [
    "text_columns = train_new.select_dtypes(include='object').columns.tolist()"
   ]
  },
  {
   "cell_type": "code",
   "execution_count": 17,
   "id": "49caeb15-34fd-4498-b4f8-6a856af96cea",
   "metadata": {},
   "outputs": [
    {
     "name": "stdout",
     "output_type": "stream",
     "text": [
      "0:\tlearn: 0.6854004\ttest: 0.6848128\tbest: 0.6848128 (0)\ttotal: 63.8ms\tremaining: 1m 3s\n",
      "100:\tlearn: 0.6395866\ttest: 0.6478011\tbest: 0.6469584 (32)\ttotal: 314ms\tremaining: 2.79s\n",
      "200:\tlearn: 0.6173913\ttest: 0.6498979\tbest: 0.6469584 (32)\ttotal: 564ms\tremaining: 2.24s\n",
      "300:\tlearn: 0.5978583\ttest: 0.6531417\tbest: 0.6469584 (32)\ttotal: 821ms\tremaining: 1.91s\n",
      "400:\tlearn: 0.5828934\ttest: 0.6559686\tbest: 0.6469584 (32)\ttotal: 1.08s\tremaining: 1.62s\n",
      "500:\tlearn: 0.5687247\ttest: 0.6583114\tbest: 0.6469584 (32)\ttotal: 1.33s\tremaining: 1.33s\n",
      "600:\tlearn: 0.5553526\ttest: 0.6623718\tbest: 0.6469584 (32)\ttotal: 1.59s\tremaining: 1.05s\n",
      "700:\tlearn: 0.5445834\ttest: 0.6648474\tbest: 0.6469584 (32)\ttotal: 1.85s\tremaining: 791ms\n",
      "800:\tlearn: 0.5317951\ttest: 0.6668324\tbest: 0.6469584 (32)\ttotal: 2.12s\tremaining: 526ms\n",
      "900:\tlearn: 0.5200444\ttest: 0.6686735\tbest: 0.6469584 (32)\ttotal: 2.38s\tremaining: 261ms\n",
      "999:\tlearn: 0.5085614\ttest: 0.6711267\tbest: 0.6469584 (32)\ttotal: 2.64s\tremaining: 0us\n",
      "\n",
      "bestTest = 0.6469583708\n",
      "bestIteration = 32\n",
      "\n",
      "Shrink model to first 33 iterations.\n"
     ]
    },
    {
     "data": {
      "text/plain": [
       "<catboost.core.CatBoostClassifier at 0x286bda400>"
      ]
     },
     "execution_count": 17,
     "metadata": {},
     "output_type": "execute_result"
    }
   ],
   "source": [
    "model = CatBoostClassifier(iterations=1000, learning_rate=0.1, depth=3, cat_features=text_columns, random_seed=42)\n",
    "model.fit(train_new.drop(columns=target), train_new[target], eval_set = (val_new.drop(columns=target), val_new[target]), verbose=100)"
   ]
  },
  {
   "cell_type": "code",
   "execution_count": 18,
   "id": "e548803c-340d-46b7-b358-db1462287c6a",
   "metadata": {},
   "outputs": [
    {
     "name": "stdout",
     "output_type": "stream",
     "text": [
      "TRAIN : 0.5563695271662796\n",
      "VAL : 0.5070059705171678\n",
      "TEST : 0.4915522458509284\n"
     ]
    }
   ],
   "source": [
    "print(f\"TRAIN : {roc_auc_score(train_new[target], model.predict_proba(train_new.drop(columns=target))[:, 1])}\")\n",
    "print(f\"VAL : {roc_auc_score(val_new[target], model.predict_proba(val_new.drop(columns=target))[:, 1])}\")\n",
    "print(f\"TEST : {roc_auc_score(test_new[target], model.predict_proba(test_new.drop(columns=target))[:, 1])}\")"
   ]
  },
  {
   "cell_type": "code",
   "execution_count": 20,
   "id": "f0714e9f-e617-44ac-8d6d-edf8343a79bd",
   "metadata": {},
   "outputs": [
    {
     "name": "stdout",
     "output_type": "stream",
     "text": [
      "TRAIN : 0.0\n",
      "VAL : 0.0\n",
      "TEST : 0.0\n"
     ]
    }
   ],
   "source": [
    "print(f\"TRAIN : {f1_score(train_new[target], model.predict(train_new.drop(columns=target)))}\")\n",
    "print(f\"VAL : {f1_score(val_new[target], model.predict(val_new.drop(columns=target)))}\")\n",
    "print(f\"TEST : {f1_score(test_new[target], model.predict(test_new.drop(columns=target)))}\")"
   ]
  },
  {
   "cell_type": "code",
   "execution_count": 21,
   "id": "51ea181f-dd00-40df-8802-5ef095e277d5",
   "metadata": {},
   "outputs": [
    {
     "name": "stdout",
     "output_type": "stream",
     "text": [
      "              precision    recall  f1-score   support\n",
      "\n",
      "           0       0.64      1.00      0.78      1114\n",
      "           1       0.00      0.00      0.00       639\n",
      "\n",
      "    accuracy                           0.64      1753\n",
      "   macro avg       0.32      0.50      0.39      1753\n",
      "weighted avg       0.40      0.64      0.49      1753\n",
      "\n"
     ]
    },
    {
     "name": "stderr",
     "output_type": "stream",
     "text": [
      "/Library/Frameworks/Python.framework/Versions/3.9/lib/python3.9/site-packages/sklearn/metrics/_classification.py:1509: UndefinedMetricWarning: Precision is ill-defined and being set to 0.0 in labels with no predicted samples. Use `zero_division` parameter to control this behavior.\n",
      "  _warn_prf(average, modifier, f\"{metric.capitalize()} is\", len(result))\n",
      "/Library/Frameworks/Python.framework/Versions/3.9/lib/python3.9/site-packages/sklearn/metrics/_classification.py:1509: UndefinedMetricWarning: Precision is ill-defined and being set to 0.0 in labels with no predicted samples. Use `zero_division` parameter to control this behavior.\n",
      "  _warn_prf(average, modifier, f\"{metric.capitalize()} is\", len(result))\n",
      "/Library/Frameworks/Python.framework/Versions/3.9/lib/python3.9/site-packages/sklearn/metrics/_classification.py:1509: UndefinedMetricWarning: Precision is ill-defined and being set to 0.0 in labels with no predicted samples. Use `zero_division` parameter to control this behavior.\n",
      "  _warn_prf(average, modifier, f\"{metric.capitalize()} is\", len(result))\n"
     ]
    }
   ],
   "source": [
    "print(classification_report(test_new[target], model.predict(test_new.drop(columns=target))))"
   ]
  },
  {
   "cell_type": "code",
   "execution_count": 23,
   "id": "83f19001-546b-4eac-8843-194e93cf32c9",
   "metadata": {},
   "outputs": [
    {
     "name": "stdout",
     "output_type": "stream",
     "text": [
      "<class 'pandas.core.frame.DataFrame'>\n",
      "Index: 5257 entries, 4575 to 180\n",
      "Data columns (total 26 columns):\n",
      " #   Column                           Non-Null Count  Dtype  \n",
      "---  ------                           --------------  -----  \n",
      " 0   Patient ID                       5257 non-null   object \n",
      " 1   Age                              5257 non-null   int64  \n",
      " 2   Sex                              5257 non-null   object \n",
      " 3   Cholesterol                      5257 non-null   int64  \n",
      " 4   Blood Pressure                   5257 non-null   object \n",
      " 5   Heart Rate                       5257 non-null   int64  \n",
      " 6   Diabetes                         5257 non-null   int64  \n",
      " 7   Family History                   5257 non-null   int64  \n",
      " 8   Smoking                          5257 non-null   int64  \n",
      " 9   Obesity                          5257 non-null   int64  \n",
      " 10  Alcohol Consumption              5257 non-null   int64  \n",
      " 11  Exercise Hours Per Week          5257 non-null   float64\n",
      " 12  Diet                             5257 non-null   object \n",
      " 13  Previous Heart Problems          5257 non-null   int64  \n",
      " 14  Medication Use                   5257 non-null   int64  \n",
      " 15  Stress Level                     5257 non-null   int64  \n",
      " 16  Sedentary Hours Per Day          5257 non-null   float64\n",
      " 17  Income                           5257 non-null   int64  \n",
      " 18  BMI                              5257 non-null   float64\n",
      " 19  Triglycerides                    5257 non-null   int64  \n",
      " 20  Physical Activity Days Per Week  5257 non-null   int64  \n",
      " 21  Sleep Hours Per Day              5257 non-null   int64  \n",
      " 22  Country                          5257 non-null   object \n",
      " 23  Continent                        5257 non-null   object \n",
      " 24  Hemisphere                       5257 non-null   object \n",
      " 25  Heart Attack Risk                5257 non-null   int64  \n",
      "dtypes: float64(3), int64(16), object(7)\n",
      "memory usage: 1.1+ MB\n"
     ]
    }
   ],
   "source": [
    "train_new.info()"
   ]
  },
  {
   "cell_type": "code",
   "execution_count": 24,
   "id": "409dd511-4a5f-4db3-b2d9-fe5d8984b58f",
   "metadata": {},
   "outputs": [],
   "source": [
    "columns_to_drop = ['Patient ID', 'Hemisphere', 'Continent', 'Country']"
   ]
  },
  {
   "cell_type": "code",
   "execution_count": 25,
   "id": "a5b566c7-bf02-41f3-bb69-9283b28a4742",
   "metadata": {},
   "outputs": [],
   "source": [
    "train_new = train_new.drop(columns=columns_to_drop)\n",
    "val_new = val_new.drop(columns=columns_to_drop)\n",
    "test_new = test_new.drop(columns=columns_to_drop)"
   ]
  },
  {
   "cell_type": "code",
   "execution_count": 35,
   "id": "4d150d88-3f5f-4d1e-9972-d066d01422ae",
   "metadata": {},
   "outputs": [],
   "source": [
    "text_columns = train_new.select_dtypes(include='object').columns.tolist()"
   ]
  },
  {
   "cell_type": "code",
   "execution_count": 27,
   "id": "56185678-eb2d-4632-9767-4560e48054a2",
   "metadata": {},
   "outputs": [
    {
     "name": "stdout",
     "output_type": "stream",
     "text": [
      "0:\tlearn: 0.6854306\ttest: 0.6848069\tbest: 0.6848069 (0)\ttotal: 2.7ms\tremaining: 2.69s\n",
      "100:\tlearn: 0.6339781\ttest: 0.6477658\tbest: 0.6464118 (57)\ttotal: 212ms\tremaining: 1.89s\n",
      "200:\tlearn: 0.6105285\ttest: 0.6523157\tbest: 0.6464118 (57)\ttotal: 431ms\tremaining: 1.72s\n",
      "300:\tlearn: 0.5912308\ttest: 0.6557062\tbest: 0.6464118 (57)\ttotal: 650ms\tremaining: 1.51s\n",
      "400:\tlearn: 0.5729124\ttest: 0.6583124\tbest: 0.6464118 (57)\ttotal: 865ms\tremaining: 1.29s\n",
      "500:\tlearn: 0.5582615\ttest: 0.6599770\tbest: 0.6464118 (57)\ttotal: 1.09s\tremaining: 1.09s\n",
      "600:\tlearn: 0.5439864\ttest: 0.6646601\tbest: 0.6464118 (57)\ttotal: 1.31s\tremaining: 869ms\n",
      "700:\tlearn: 0.5321028\ttest: 0.6660085\tbest: 0.6464118 (57)\ttotal: 1.53s\tremaining: 654ms\n",
      "800:\tlearn: 0.5187353\ttest: 0.6681252\tbest: 0.6464118 (57)\ttotal: 1.76s\tremaining: 439ms\n",
      "900:\tlearn: 0.5066113\ttest: 0.6714575\tbest: 0.6464118 (57)\ttotal: 1.99s\tremaining: 218ms\n",
      "999:\tlearn: 0.4962896\ttest: 0.6730378\tbest: 0.6464118 (57)\ttotal: 2.21s\tremaining: 0us\n",
      "\n",
      "bestTest = 0.6464118252\n",
      "bestIteration = 57\n",
      "\n",
      "Shrink model to first 58 iterations.\n"
     ]
    },
    {
     "data": {
      "text/plain": [
       "<catboost.core.CatBoostClassifier at 0x286b1f820>"
      ]
     },
     "execution_count": 27,
     "metadata": {},
     "output_type": "execute_result"
    }
   ],
   "source": [
    "model = CatBoostClassifier(iterations=1000, learning_rate=0.1, depth=3, cat_features=text_columns, random_seed=42)\n",
    "model.fit(train_new.drop(columns=target), train_new[target], eval_set = (val_new.drop(columns=target), val_new[target]), verbose=100)"
   ]
  },
  {
   "cell_type": "code",
   "execution_count": 28,
   "id": "70f2c7de-1010-41f0-bd12-9be04549bcc9",
   "metadata": {},
   "outputs": [
    {
     "name": "stdout",
     "output_type": "stream",
     "text": [
      "TRAIN : 0.6545530506030035\n",
      "VAL : 0.5149578222947079\n",
      "TEST : 0.5100850464847734\n"
     ]
    }
   ],
   "source": [
    "print(f\"TRAIN : {roc_auc_score(train_new[target], model.predict_proba(train_new.drop(columns=target))[:, 1])}\")\n",
    "print(f\"VAL : {roc_auc_score(val_new[target], model.predict_proba(val_new.drop(columns=target))[:, 1])}\")\n",
    "print(f\"TEST : {roc_auc_score(test_new[target], model.predict_proba(test_new.drop(columns=target))[:, 1])}\")"
   ]
  },
  {
   "cell_type": "code",
   "execution_count": 29,
   "id": "865dc115-174a-4710-88f1-2b40052c0bfc",
   "metadata": {},
   "outputs": [
    {
     "name": "stdout",
     "output_type": "stream",
     "text": [
      "TRAIN : 0.0\n",
      "VAL : 0.0\n",
      "TEST : 0.0\n"
     ]
    }
   ],
   "source": [
    "print(f\"TRAIN : {f1_score(train_new[target], model.predict(train_new.drop(columns=target)))}\")\n",
    "print(f\"VAL : {f1_score(val_new[target], model.predict(val_new.drop(columns=target)))}\")\n",
    "print(f\"TEST : {f1_score(test_new[target], model.predict(test_new.drop(columns=target)))}\")"
   ]
  },
  {
   "cell_type": "code",
   "execution_count": 31,
   "id": "a6d484eb-f532-46eb-86ec-009497343e97",
   "metadata": {},
   "outputs": [
    {
     "name": "stdout",
     "output_type": "stream",
     "text": [
      "<class 'pandas.core.frame.DataFrame'>\n",
      "Index: 5257 entries, 4575 to 180\n",
      "Data columns (total 22 columns):\n",
      " #   Column                           Non-Null Count  Dtype  \n",
      "---  ------                           --------------  -----  \n",
      " 0   Age                              5257 non-null   int64  \n",
      " 1   Sex                              5257 non-null   object \n",
      " 2   Cholesterol                      5257 non-null   int64  \n",
      " 3   Blood Pressure                   5257 non-null   object \n",
      " 4   Heart Rate                       5257 non-null   int64  \n",
      " 5   Diabetes                         5257 non-null   int64  \n",
      " 6   Family History                   5257 non-null   int64  \n",
      " 7   Smoking                          5257 non-null   int64  \n",
      " 8   Obesity                          5257 non-null   int64  \n",
      " 9   Alcohol Consumption              5257 non-null   int64  \n",
      " 10  Exercise Hours Per Week          5257 non-null   float64\n",
      " 11  Diet                             5257 non-null   object \n",
      " 12  Previous Heart Problems          5257 non-null   int64  \n",
      " 13  Medication Use                   5257 non-null   int64  \n",
      " 14  Stress Level                     5257 non-null   int64  \n",
      " 15  Sedentary Hours Per Day          5257 non-null   float64\n",
      " 16  Income                           5257 non-null   int64  \n",
      " 17  BMI                              5257 non-null   float64\n",
      " 18  Triglycerides                    5257 non-null   int64  \n",
      " 19  Physical Activity Days Per Week  5257 non-null   int64  \n",
      " 20  Sleep Hours Per Day              5257 non-null   int64  \n",
      " 21  Heart Attack Risk                5257 non-null   int64  \n",
      "dtypes: float64(3), int64(16), object(3)\n",
      "memory usage: 944.6+ KB\n"
     ]
    }
   ],
   "source": [
    "train_new.info()"
   ]
  },
  {
   "cell_type": "code",
   "execution_count": 32,
   "id": "541da64e-9650-4c6b-b096-cf57b61fc89a",
   "metadata": {},
   "outputs": [
    {
     "name": "stdout",
     "output_type": "stream",
     "text": [
      "TRAIN : 0.6406695834125927\n",
      "VAL : 0.6514546491728466\n",
      "TEST : 0.6354820308043354\n"
     ]
    }
   ],
   "source": [
    "print(f\"TRAIN : {accuracy_score(train_new[target], model.predict(train_new.drop(columns=target)))}\")\n",
    "print(f\"VAL : {accuracy_score(val_new[target], model.predict(val_new.drop(columns=target)))}\")\n",
    "print(f\"TEST : {accuracy_score(test_new[target], model.predict(test_new.drop(columns=target)))}\")"
   ]
  },
  {
   "cell_type": "code",
   "execution_count": 33,
   "id": "91adda4f-0574-4166-8c98-55cfe1c0e025",
   "metadata": {},
   "outputs": [],
   "source": [
    "train_new = train_new.drop(columns='Blood Pressure')\n",
    "val_new = val_new.drop(columns='Blood Pressure')\n",
    "test_new = test_new.drop(columns='Blood Pressure')"
   ]
  },
  {
   "cell_type": "code",
   "execution_count": 36,
   "id": "fda6bc11-11c2-44a6-8a5e-498a5ceb070b",
   "metadata": {},
   "outputs": [
    {
     "name": "stdout",
     "output_type": "stream",
     "text": [
      "0:\tlearn: 0.6853522\ttest: 0.6847395\tbest: 0.6847395 (0)\ttotal: 3.7ms\tremaining: 3.69s\n",
      "100:\tlearn: 0.6336610\ttest: 0.6488328\tbest: 0.6474324 (41)\ttotal: 210ms\tremaining: 1.87s\n",
      "200:\tlearn: 0.6068395\ttest: 0.6520451\tbest: 0.6474324 (41)\ttotal: 401ms\tremaining: 1.59s\n",
      "300:\tlearn: 0.5862763\ttest: 0.6579177\tbest: 0.6474324 (41)\ttotal: 601ms\tremaining: 1.4s\n",
      "400:\tlearn: 0.5681853\ttest: 0.6604444\tbest: 0.6474324 (41)\ttotal: 802ms\tremaining: 1.2s\n",
      "500:\tlearn: 0.5509595\ttest: 0.6618667\tbest: 0.6474324 (41)\ttotal: 1.01s\tremaining: 1s\n",
      "600:\tlearn: 0.5373618\ttest: 0.6653481\tbest: 0.6474324 (41)\ttotal: 1.21s\tremaining: 806ms\n",
      "700:\tlearn: 0.5226301\ttest: 0.6704157\tbest: 0.6474324 (41)\ttotal: 1.42s\tremaining: 604ms\n",
      "800:\tlearn: 0.5085689\ttest: 0.6727782\tbest: 0.6474324 (41)\ttotal: 1.62s\tremaining: 402ms\n",
      "900:\tlearn: 0.4984687\ttest: 0.6733426\tbest: 0.6474324 (41)\ttotal: 1.82s\tremaining: 200ms\n",
      "999:\tlearn: 0.4862747\ttest: 0.6764895\tbest: 0.6474324 (41)\ttotal: 2.02s\tremaining: 0us\n",
      "\n",
      "bestTest = 0.6474324039\n",
      "bestIteration = 41\n",
      "\n",
      "Shrink model to first 42 iterations.\n"
     ]
    },
    {
     "data": {
      "text/plain": [
       "<catboost.core.CatBoostClassifier at 0x28dd7f700>"
      ]
     },
     "execution_count": 36,
     "metadata": {},
     "output_type": "execute_result"
    }
   ],
   "source": [
    "model = CatBoostClassifier(iterations=1000, learning_rate=0.1, depth=3, cat_features=text_columns, random_seed=42)\n",
    "model.fit(train_new.drop(columns=target), train_new[target], eval_set = (val_new.drop(columns=target), val_new[target]), verbose=100)"
   ]
  },
  {
   "cell_type": "code",
   "execution_count": 37,
   "id": "1547c9f3-c333-4a2d-8013-895fd028cba9",
   "metadata": {},
   "outputs": [
    {
     "name": "stdout",
     "output_type": "stream",
     "text": [
      "TRAIN : 0.6118968864623167\n",
      "VAL : 0.4975693717915277\n",
      "TEST : 0.5165976910736311\n"
     ]
    }
   ],
   "source": [
    "print(f\"TRAIN : {roc_auc_score(train_new[target], model.predict_proba(train_new.drop(columns=target))[:, 1])}\")\n",
    "print(f\"VAL : {roc_auc_score(val_new[target], model.predict_proba(val_new.drop(columns=target))[:, 1])}\")\n",
    "print(f\"TEST : {roc_auc_score(test_new[target], model.predict_proba(test_new.drop(columns=target))[:, 1])}\")"
   ]
  },
  {
   "cell_type": "code",
   "execution_count": 38,
   "id": "dcf1936c-7649-4ce1-a3df-b331e0a940b1",
   "metadata": {},
   "outputs": [
    {
     "name": "stdout",
     "output_type": "stream",
     "text": [
      "TRAIN : 0.0\n",
      "VAL : 0.0\n",
      "TEST : 0.0\n"
     ]
    }
   ],
   "source": [
    "print(f\"TRAIN : {f1_score(train_new[target], model.predict(train_new.drop(columns=target)))}\")\n",
    "print(f\"VAL : {f1_score(val_new[target], model.predict(val_new.drop(columns=target)))}\")\n",
    "print(f\"TEST : {f1_score(test_new[target], model.predict(test_new.drop(columns=target)))}\")"
   ]
  },
  {
   "cell_type": "code",
   "execution_count": 39,
   "id": "e9880f7c-74c7-4daf-a0fc-219f59ea3455",
   "metadata": {},
   "outputs": [
    {
     "name": "stdout",
     "output_type": "stream",
     "text": [
      "TRAIN : 0.6406695834125927\n",
      "VAL : 0.6514546491728466\n",
      "TEST : 0.6354820308043354\n"
     ]
    }
   ],
   "source": [
    "print(f\"TRAIN : {accuracy_score(train_new[target], model.predict(train_new.drop(columns=target)))}\")\n",
    "print(f\"VAL : {accuracy_score(val_new[target], model.predict(val_new.drop(columns=target)))}\")\n",
    "print(f\"TEST : {accuracy_score(test_new[target], model.predict(test_new.drop(columns=target)))}\")"
   ]
  },
  {
   "cell_type": "code",
   "execution_count": null,
   "id": "7fb312f1-9164-4c58-9198-038f7c3473ab",
   "metadata": {},
   "outputs": [],
   "source": []
  }
 ],
 "metadata": {
  "kernelspec": {
   "display_name": "Python 3 (ipykernel)",
   "language": "python",
   "name": "python3"
  },
  "language_info": {
   "codemirror_mode": {
    "name": "ipython",
    "version": 3
   },
   "file_extension": ".py",
   "mimetype": "text/x-python",
   "name": "python",
   "nbconvert_exporter": "python",
   "pygments_lexer": "ipython3",
   "version": "3.9.12"
  }
 },
 "nbformat": 4,
 "nbformat_minor": 5
}
